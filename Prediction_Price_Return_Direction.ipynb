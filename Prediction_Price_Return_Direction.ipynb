{
 "cells": [
  {
   "cell_type": "code",
   "execution_count": 1,
   "id": "5ac6b097",
   "metadata": {},
   "outputs": [],
   "source": [
    "import requests\n",
    "import pandas as pd\n",
    "import numpy as np\n",
    "import json\n",
    "from datetime import datetime\n",
    "import time\n",
    "import os\n",
    "from dotenv import load_dotenv\n",
    "from sklearn.linear_model import LinearRegression\n",
    "import statsmodels.api as sm\n",
    "from functools import reduce\n",
    "\n",
    "from sklearn.metrics import mean_squared_error\n",
    "from sklearn.ensemble import  RandomForestRegressor\n",
    "from sklearn.model_selection import train_test_split, GridSearchCV\n",
    "from sklearn.metrics import mean_squared_error, r2_score\n",
    "\n",
    "import warnings\n",
    "warnings.filterwarnings(\"ignore\")\n",
    "\n"
   ]
  },
  {
   "cell_type": "code",
   "execution_count": 2,
   "id": "1e580a9a",
   "metadata": {},
   "outputs": [],
   "source": [
    "df_income = pd.read_csv('data/income_statement.csv')\n",
    "df_balance = pd.read_csv('data/balance_sheet.csv')\n",
    "df_cash_flow = pd.read_csv('data/cash_flow_statement.csv')   \n",
    "df_earnings = pd.read_csv('data/earnings.csv')   \n",
    "df_overview = pd.read_csv('data/company_overview.csv')"
   ]
  },
  {
   "cell_type": "code",
   "execution_count": 3,
   "id": "e6a3c407",
   "metadata": {},
   "outputs": [],
   "source": [
    "df_technical = pd.read_csv('data/technical_data.csv')"
   ]
  },
  {
   "cell_type": "code",
   "execution_count": 4,
   "id": "8e7c9ab7",
   "metadata": {},
   "outputs": [],
   "source": [
    "df_price = pd.read_csv('data/tech_stock_daily_price.csv')"
   ]
  },
  {
   "cell_type": "code",
   "execution_count": 5,
   "id": "83d5ccee",
   "metadata": {},
   "outputs": [],
   "source": [
    "df_income['fiscalDateEnding'] = pd.to_datetime(df_income['fiscalDateEnding'])\n",
    "df_balance['fiscalDateEnding'] = pd.to_datetime(df_balance['fiscalDateEnding'])\n",
    "df_cash_flow['fiscalDateEnding'] = pd.to_datetime(df_cash_flow['fiscalDateEnding'])\n",
    "df_earnings['fiscalDateEnding'] = pd.to_datetime(df_earnings['fiscalDateEnding'])\n",
    "df_technical['date'] = pd.to_datetime(df_technical['date'])\n",
    "df_price['Date'] = pd.to_datetime(df_price['Date'])"
   ]
  },
  {
   "cell_type": "code",
   "execution_count": 6,
   "id": "04b4257a",
   "metadata": {},
   "outputs": [],
   "source": [
    "df_earnings = df_earnings[df_earnings['fiscalDateEnding'] >= '2005-01-01']\n",
    "df_technical = df_technical[df_technical['date']>='2005-01-01']\n",
    "df_price = df_price[df_price['Date'] >= '2005-01-01']"
   ]
  },
  {
   "cell_type": "code",
   "execution_count": 7,
   "id": "f5499d7d",
   "metadata": {},
   "outputs": [],
   "source": [
    "df_income = df_income.sort_values(by=['symbol', 'fiscalDateEnding'])\n",
    "df_balance = df_balance.sort_values(by=['symbol', 'fiscalDateEnding'])\n",
    "df_cash_flow = df_cash_flow.sort_values(by=['symbol', 'fiscalDateEnding'])\n",
    "df_earnings = df_earnings.sort_values(by=['symbol', 'fiscalDateEnding'])\n",
    "df_technical = df_technical.sort_values(by=['ticker', 'date'])\n",
    "df_price = df_price.sort_values(by=['ticker', 'Date'])"
   ]
  },
  {
   "cell_type": "code",
   "execution_count": 8,
   "id": "c508533f",
   "metadata": {},
   "outputs": [],
   "source": [
    "symbol= 'AAPL'  # Example symbol, replace with your desired stock symbol"
   ]
  },
  {
   "cell_type": "code",
   "execution_count": 10,
   "id": "57d66ddb",
   "metadata": {},
   "outputs": [],
   "source": [
    "\n",
    "income_data = df_income[df_income['symbol'] == symbol]\n",
    "balance_data = df_balance[df_balance['symbol'] == symbol]\n",
    "overview_data = df_overview[df_overview['symbol'] == symbol]\n",
    "earnings_data = df_earnings[df_earnings['symbol'] == symbol]\n",
    "cash_flow_data = df_cash_flow[df_cash_flow['symbol'] == symbol]\n",
    "technical_data = df_technical[df_technical['ticker']==symbol]\n",
    "price_data = df_price[df_price['ticker'] == symbol]"
   ]
  },
  {
   "cell_type": "code",
   "execution_count": 11,
   "id": "3c061545",
   "metadata": {},
   "outputs": [],
   "source": [
    "income_data = income_data.drop(columns=['symbol','reportedCurrency'])"
   ]
  },
  {
   "cell_type": "code",
   "execution_count": 12,
   "id": "c50a592b",
   "metadata": {},
   "outputs": [],
   "source": [
    "all_nan_columns = income_data.columns[income_data.isna().all()].tolist()"
   ]
  },
  {
   "cell_type": "code",
   "execution_count": 13,
   "id": "b9207540",
   "metadata": {},
   "outputs": [],
   "source": [
    "income_data = income_data.drop(columns=all_nan_columns)"
   ]
  },
  {
   "cell_type": "code",
   "execution_count": 14,
   "id": "50f87934",
   "metadata": {},
   "outputs": [],
   "source": [
    "balance_data = balance_data.drop(columns=['symbol','reportedCurrency'])"
   ]
  },
  {
   "cell_type": "code",
   "execution_count": 15,
   "id": "4b5ead22",
   "metadata": {},
   "outputs": [],
   "source": [
    "all_nan_columns = balance_data.columns[balance_data.isna().all()].tolist()"
   ]
  },
  {
   "cell_type": "code",
   "execution_count": 16,
   "id": "2c3c0417",
   "metadata": {},
   "outputs": [],
   "source": [
    "balance_data = balance_data.drop(columns=all_nan_columns)"
   ]
  },
  {
   "cell_type": "code",
   "execution_count": 17,
   "id": "638d1b8b",
   "metadata": {},
   "outputs": [],
   "source": [
    "cash_flow_data = cash_flow_data[['fiscalDateEnding','operatingCashflow']]"
   ]
  },
  {
   "cell_type": "code",
   "execution_count": 18,
   "id": "834305a1",
   "metadata": {},
   "outputs": [],
   "source": [
    "earnings_data = earnings_data[['fiscalDateEnding','reportedEPS']]"
   ]
  },
  {
   "cell_type": "code",
   "execution_count": 27,
   "id": "e33681ad",
   "metadata": {},
   "outputs": [
    {
     "data": {
      "text/html": [
       "<div>\n",
       "<style scoped>\n",
       "    .dataframe tbody tr th:only-of-type {\n",
       "        vertical-align: middle;\n",
       "    }\n",
       "\n",
       "    .dataframe tbody tr th {\n",
       "        vertical-align: top;\n",
       "    }\n",
       "\n",
       "    .dataframe thead th {\n",
       "        text-align: right;\n",
       "    }\n",
       "</style>\n",
       "<table border=\"1\" class=\"dataframe\">\n",
       "  <thead>\n",
       "    <tr style=\"text-align: right;\">\n",
       "      <th></th>\n",
       "      <th>fiscalDateEnding</th>\n",
       "      <th>reportedEPS</th>\n",
       "    </tr>\n",
       "  </thead>\n",
       "  <tbody>\n",
       "    <tr>\n",
       "      <th>80</th>\n",
       "      <td>2005-03-31</td>\n",
       "      <td>0.01</td>\n",
       "    </tr>\n",
       "    <tr>\n",
       "      <th>79</th>\n",
       "      <td>2005-06-30</td>\n",
       "      <td>0.01</td>\n",
       "    </tr>\n",
       "    <tr>\n",
       "      <th>78</th>\n",
       "      <td>2005-09-30</td>\n",
       "      <td>0.02</td>\n",
       "    </tr>\n",
       "    <tr>\n",
       "      <th>77</th>\n",
       "      <td>2005-12-31</td>\n",
       "      <td>0.02</td>\n",
       "    </tr>\n",
       "    <tr>\n",
       "      <th>76</th>\n",
       "      <td>2006-03-31</td>\n",
       "      <td>0.02</td>\n",
       "    </tr>\n",
       "    <tr>\n",
       "      <th>...</th>\n",
       "      <td>...</td>\n",
       "      <td>...</td>\n",
       "    </tr>\n",
       "    <tr>\n",
       "      <th>4</th>\n",
       "      <td>2024-03-31</td>\n",
       "      <td>1.53</td>\n",
       "    </tr>\n",
       "    <tr>\n",
       "      <th>3</th>\n",
       "      <td>2024-06-30</td>\n",
       "      <td>1.40</td>\n",
       "    </tr>\n",
       "    <tr>\n",
       "      <th>2</th>\n",
       "      <td>2024-09-30</td>\n",
       "      <td>0.97</td>\n",
       "    </tr>\n",
       "    <tr>\n",
       "      <th>1</th>\n",
       "      <td>2024-12-31</td>\n",
       "      <td>2.40</td>\n",
       "    </tr>\n",
       "    <tr>\n",
       "      <th>0</th>\n",
       "      <td>2025-03-31</td>\n",
       "      <td>1.65</td>\n",
       "    </tr>\n",
       "  </tbody>\n",
       "</table>\n",
       "<p>81 rows × 2 columns</p>\n",
       "</div>"
      ],
      "text/plain": [
       "   fiscalDateEnding  reportedEPS\n",
       "80       2005-03-31         0.01\n",
       "79       2005-06-30         0.01\n",
       "78       2005-09-30         0.02\n",
       "77       2005-12-31         0.02\n",
       "76       2006-03-31         0.02\n",
       "..              ...          ...\n",
       "4        2024-03-31         1.53\n",
       "3        2024-06-30         1.40\n",
       "2        2024-09-30         0.97\n",
       "1        2024-12-31         2.40\n",
       "0        2025-03-31         1.65\n",
       "\n",
       "[81 rows x 2 columns]"
      ]
     },
     "execution_count": 27,
     "metadata": {},
     "output_type": "execute_result"
    }
   ],
   "source": [
    "earnings_data"
   ]
  },
  {
   "cell_type": "code",
   "execution_count": 33,
   "id": "bc12f52a",
   "metadata": {},
   "outputs": [],
   "source": [
    "merged_df = reduce(lambda left, right: pd.merge(left, right, on='fiscalDateEnding'), [income_data, balance_data, cash_flow_data, earnings_data])"
   ]
  },
  {
   "cell_type": "code",
   "execution_count": 34,
   "id": "a9d79ee2",
   "metadata": {},
   "outputs": [],
   "source": [
    "merged_df = merged_df.sort_values(by='fiscalDateEnding')"
   ]
  },
  {
   "cell_type": "code",
   "execution_count": 215,
   "id": "643ec9e8",
   "metadata": {},
   "outputs": [],
   "source": [
    "df = merged_df.merge(technical_data, left_on='fiscalDateEnding',right_on='date')"
   ]
  },
  {
   "cell_type": "code",
   "execution_count": 216,
   "id": "62475644",
   "metadata": {},
   "outputs": [],
   "source": [
    "df = price_data[['Date','Close']].merge(df, right_on='fiscalDateEnding', left_on='Date', how='left')"
   ]
  },
  {
   "cell_type": "code",
   "execution_count": 217,
   "id": "6be9ddac",
   "metadata": {},
   "outputs": [],
   "source": [
    "df = df.fillna(method='ffill')"
   ]
  },
  {
   "cell_type": "code",
   "execution_count": 218,
   "id": "2b11ecd8",
   "metadata": {},
   "outputs": [],
   "source": [
    "df['Return'] = df['Close'].pct_change().fillna(0)"
   ]
  },
  {
   "cell_type": "code",
   "execution_count": 219,
   "id": "a73e6440",
   "metadata": {},
   "outputs": [],
   "source": [
    "df['Direction'] = df['Return'].apply(lambda x: 1 if x > 0 else 0)"
   ]
  },
  {
   "cell_type": "code",
   "execution_count": 220,
   "id": "59e3c074",
   "metadata": {},
   "outputs": [],
   "source": [
    "df = df[df['Date']>='2005-04-01']"
   ]
  },
  {
   "cell_type": "code",
   "execution_count": 221,
   "id": "6ad6157a",
   "metadata": {},
   "outputs": [],
   "source": [
    "### Exclude Outliers\n",
    "# df = df[(np.abs(df['Return'] - df['Return'].mean()) <= (3 * df['Return'].std()))]\n",
    "df = df[df['Date']!='2014-06-09']\n",
    "df = df[df['Date']!='2020-08-31']\n",
    "df = df[df['Date']!='2020-09-01']\n"
   ]
  },
  {
   "cell_type": "code",
   "execution_count": 222,
   "id": "823904fb",
   "metadata": {},
   "outputs": [],
   "source": [
    "df = df.drop(columns=['Date', 'date','fiscalDateEnding','ticker','company_name'])"
   ]
  },
  {
   "cell_type": "code",
   "execution_count": 223,
   "id": "7758cece",
   "metadata": {},
   "outputs": [],
   "source": [
    "df = df.fillna(0)"
   ]
  },
  {
   "cell_type": "code",
   "execution_count": 255,
   "id": "9a880cb1",
   "metadata": {},
   "outputs": [],
   "source": [
    "df_X = df.drop(columns=['Close','Return','Direction'])"
   ]
  },
  {
   "cell_type": "code",
   "execution_count": 256,
   "id": "4a304fb7",
   "metadata": {},
   "outputs": [],
   "source": [
    "df_Y = df['Direction']"
   ]
  },
  {
   "cell_type": "code",
   "execution_count": 257,
   "id": "5764d8eb",
   "metadata": {},
   "outputs": [],
   "source": [
    "from sklearn.ensemble import RandomForestClassifier"
   ]
  },
  {
   "cell_type": "code",
   "execution_count": 258,
   "id": "feb0435b",
   "metadata": {},
   "outputs": [],
   "source": [
    "X_train, X_test, y_train, y_test = train_test_split(\n",
    "    df_X, df_Y, test_size=0.2, random_state=32\n",
    ")\n",
    "\n",
    "# 5. Initialize and fit the Random Forest model\n",
    "rf = RandomForestClassifier(\n",
    "    n_estimators=100,  # Number of trees\n",
    "    max_depth=None,    # Let trees expand until all leaves are pure\n",
    "    random_state=42\n",
    ")\n",
    "rf.fit(X_train, y_train)\n",
    "\n",
    "y_pred = rf.predict(X_test)\n",
    "\n"
   ]
  },
  {
   "cell_type": "code",
   "execution_count": 259,
   "id": "587bb7c8",
   "metadata": {},
   "outputs": [
    {
     "name": "stdout",
     "output_type": "stream",
     "text": [
      "Accuracy: 0.5274509803921569\n",
      "              precision    recall  f1-score   support\n",
      "\n",
      "           0       0.53      0.26      0.35       495\n",
      "           1       0.53      0.78      0.63       525\n",
      "\n",
      "    accuracy                           0.53      1020\n",
      "   macro avg       0.53      0.52      0.49      1020\n",
      "weighted avg       0.53      0.53      0.49      1020\n",
      "\n",
      "Confusion Matrix:\n",
      " [[130 365]\n",
      " [117 408]]\n"
     ]
    }
   ],
   "source": [
    "from sklearn.metrics import accuracy_score, classification_report, confusion_matrix\n",
    "\n",
    "print(\"Accuracy:\", accuracy_score(y_test, y_pred))\n",
    "print(classification_report(y_test, y_pred))\n",
    "print(\"Confusion Matrix:\\n\", confusion_matrix(y_test, y_pred))\n"
   ]
  }
 ],
 "metadata": {
  "kernelspec": {
   "display_name": "base",
   "language": "python",
   "name": "python3"
  },
  "language_info": {
   "codemirror_mode": {
    "name": "ipython",
    "version": 3
   },
   "file_extension": ".py",
   "mimetype": "text/x-python",
   "name": "python",
   "nbconvert_exporter": "python",
   "pygments_lexer": "ipython3",
   "version": "3.11.5"
  }
 },
 "nbformat": 4,
 "nbformat_minor": 5
}
