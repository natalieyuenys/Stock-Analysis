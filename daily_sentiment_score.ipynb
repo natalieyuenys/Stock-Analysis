{
 "cells": [
  {
   "cell_type": "code",
   "execution_count": 15,
   "id": "5df261ba",
   "metadata": {},
   "outputs": [],
   "source": [
    "import pandas as pd\n",
    "import warnings\n",
    "warnings.filterwarnings(\"ignore\")"
   ]
  },
  {
   "cell_type": "code",
   "execution_count": 22,
   "id": "bb27c652",
   "metadata": {},
   "outputs": [],
   "source": [
    "df = pd.read_csv('data/tech_stock_sentiment_by_article.csv')"
   ]
  },
  {
   "cell_type": "code",
   "execution_count": 23,
   "id": "0a6944ff",
   "metadata": {},
   "outputs": [
    {
     "data": {
      "text/plain": [
       "Index(['title', 'url', 'summary', 'source', 'published_date',\n",
       "       'sentiment_score', 'ticker', 'company_name'],\n",
       "      dtype='object')"
      ]
     },
     "execution_count": 23,
     "metadata": {},
     "output_type": "execute_result"
    }
   ],
   "source": [
    "df.columns"
   ]
  },
  {
   "cell_type": "code",
   "execution_count": 24,
   "id": "02ffa04c",
   "metadata": {},
   "outputs": [],
   "source": [
    "df['date'] = pd.to_datetime(df['published_date']).dt.date"
   ]
  },
  {
   "cell_type": "code",
   "execution_count": 25,
   "id": "750862e9",
   "metadata": {},
   "outputs": [],
   "source": [
    "df = df[['date', 'ticker', 'sentiment_score']]"
   ]
  },
  {
   "cell_type": "code",
   "execution_count": 26,
   "id": "f2b422bb",
   "metadata": {},
   "outputs": [],
   "source": [
    "df_daily = df.groupby(['date', 'ticker']).mean().reset_index()"
   ]
  },
  {
   "cell_type": "code",
   "execution_count": 21,
   "id": "e1cb1108",
   "metadata": {},
   "outputs": [],
   "source": [
    "df_daily.to_csv('data/daily_sentiment_score.csv', index=False)"
   ]
  },
  {
   "cell_type": "code",
   "execution_count": null,
   "id": "8a08bf79",
   "metadata": {},
   "outputs": [],
   "source": []
  }
 ],
 "metadata": {
  "kernelspec": {
   "display_name": "base",
   "language": "python",
   "name": "python3"
  },
  "language_info": {
   "codemirror_mode": {
    "name": "ipython",
    "version": 3
   },
   "file_extension": ".py",
   "mimetype": "text/x-python",
   "name": "python",
   "nbconvert_exporter": "python",
   "pygments_lexer": "ipython3",
   "version": "3.11.5"
  }
 },
 "nbformat": 4,
 "nbformat_minor": 5
}
