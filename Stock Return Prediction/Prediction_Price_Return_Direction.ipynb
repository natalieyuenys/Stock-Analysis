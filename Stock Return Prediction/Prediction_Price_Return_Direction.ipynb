{
 "cells": [
  {
   "cell_type": "code",
   "execution_count": 290,
   "id": "5ac6b097",
   "metadata": {},
   "outputs": [],
   "source": [
    "import requests\n",
    "import pandas as pd\n",
    "import numpy as np\n",
    "import json\n",
    "from datetime import datetime\n",
    "import time\n",
    "import os\n",
    "from dotenv import load_dotenv\n",
    "from sklearn.linear_model import LinearRegression\n",
    "import statsmodels.api as sm\n",
    "from functools import reduce\n",
    "\n",
    "from sklearn.metrics import mean_squared_error\n",
    "from sklearn.ensemble import  RandomForestRegressor\n",
    "from sklearn.model_selection import train_test_split, GridSearchCV\n",
    "from sklearn.metrics import mean_squared_error, r2_score\n",
    "\n",
    "import warnings\n",
    "warnings.filterwarnings(\"ignore\")\n",
    "\n"
   ]
  },
  {
   "cell_type": "code",
   "execution_count": 366,
   "id": "1e580a9a",
   "metadata": {},
   "outputs": [],
   "source": [
    "df_income = pd.read_csv('../data/income_statement.csv')\n",
    "df_balance = pd.read_csv('../data/balance_sheet.csv')\n",
    "df_cash_flow = pd.read_csv('../data/cash_flow_statement.csv')   \n",
    "df_earnings = pd.read_csv('../data/earnings.csv')   \n",
    "df_overview = pd.read_csv('../data/company_overview.csv')"
   ]
  },
  {
   "cell_type": "code",
   "execution_count": 367,
   "id": "e6a3c407",
   "metadata": {},
   "outputs": [],
   "source": [
    "df_technical = pd.read_csv('../data/technical_data.csv')"
   ]
  },
  {
   "cell_type": "code",
   "execution_count": 368,
   "id": "8e7c9ab7",
   "metadata": {},
   "outputs": [],
   "source": [
    "df_price = pd.read_csv('../data/tech_stock_daily_price.csv')"
   ]
  },
  {
   "cell_type": "code",
   "execution_count": 369,
   "id": "fa12105c",
   "metadata": {},
   "outputs": [],
   "source": [
    "df_sentiment = pd.read_csv('../data/daily_sentiment_score.csv')"
   ]
  },
  {
   "cell_type": "code",
   "execution_count": 370,
   "id": "83d5ccee",
   "metadata": {},
   "outputs": [],
   "source": [
    "df_income['fiscalDateEnding'] = pd.to_datetime(df_income['fiscalDateEnding'])\n",
    "df_balance['fiscalDateEnding'] = pd.to_datetime(df_balance['fiscalDateEnding'])\n",
    "df_cash_flow['fiscalDateEnding'] = pd.to_datetime(df_cash_flow['fiscalDateEnding'])\n",
    "df_earnings['fiscalDateEnding'] = pd.to_datetime(df_earnings['fiscalDateEnding'])\n",
    "df_technical['date'] = pd.to_datetime(df_technical['date'])\n",
    "df_price['Date'] = pd.to_datetime(df_price['Date'])\n",
    "df_sentiment['date'] = pd.to_datetime(df_sentiment['date'])\n"
   ]
  },
  {
   "cell_type": "code",
   "execution_count": 371,
   "id": "e51ebf72",
   "metadata": {},
   "outputs": [],
   "source": [
    "start_date = '2023-12-29'\n",
    "end_date = '2025-06-29'"
   ]
  },
  {
   "cell_type": "code",
   "execution_count": 372,
   "id": "04b4257a",
   "metadata": {},
   "outputs": [],
   "source": [
    "df_income = df_income[df_income['fiscalDateEnding'] >= start_date]\n",
    "df_balance = df_balance[df_balance['fiscalDateEnding'] >= start_date]\n",
    "df_cash_flow = df_cash_flow[df_cash_flow['fiscalDateEnding']>= start_date]\n",
    "\n",
    "df_earnings = df_earnings[df_earnings['fiscalDateEnding'] >= start_date]\n",
    "df_technical = df_technical[(df_technical['date']>=start_date) & (df_technical['date'] < end_date)]\n",
    "df_price = df_price[(df_price['Date'] >= start_date)&(df_price['Date'] <end_date)]\n",
    "df_sentiment = df_sentiment[(df_sentiment['date'] >= start_date)&(df_sentiment['date'] < end_date)]"
   ]
  },
  {
   "cell_type": "code",
   "execution_count": 373,
   "id": "8f1606fe",
   "metadata": {},
   "outputs": [
    {
     "name": "stdout",
     "output_type": "stream",
     "text": [
      "2023-12-29 00:00:00\n",
      "2023-12-29 00:00:00\n",
      "2024-01-01 00:00:00\n",
      "2023-12-31 00:00:00\n",
      "2023-12-31 00:00:00\n",
      "2023-12-31 00:00:00\n",
      "2023-12-31 00:00:00\n"
     ]
    }
   ],
   "source": [
    "print(df_technical['date'].min())\n",
    "print(df_price['Date'].min())\n",
    "print(df_sentiment['date'].min())\n",
    "print(df_earnings['fiscalDateEnding'].min())\n",
    "print(df_income['fiscalDateEnding'].min())\n",
    "print(df_balance['fiscalDateEnding'].min())\n",
    "print(df_cash_flow['fiscalDateEnding'].min())"
   ]
  },
  {
   "cell_type": "code",
   "execution_count": 374,
   "id": "f5499d7d",
   "metadata": {},
   "outputs": [],
   "source": [
    "df_income = df_income.sort_values(by=['symbol', 'fiscalDateEnding'])\n",
    "df_balance = df_balance.sort_values(by=['symbol', 'fiscalDateEnding'])\n",
    "df_cash_flow = df_cash_flow.sort_values(by=['symbol', 'fiscalDateEnding'])\n",
    "df_earnings = df_earnings.sort_values(by=['symbol', 'fiscalDateEnding'])\n",
    "df_technical = df_technical.sort_values(by=['ticker', 'date'])\n",
    "df_price = df_price.sort_values(by=['ticker', 'Date'])\n",
    "df_sentiment = df_sentiment.sort_values(by=['ticker', 'date'])"
   ]
  },
  {
   "cell_type": "code",
   "execution_count": 375,
   "id": "9adeddac",
   "metadata": {},
   "outputs": [],
   "source": [
    "symbol='AAPL'"
   ]
  },
  {
   "cell_type": "code",
   "execution_count": 477,
   "id": "57d66ddb",
   "metadata": {},
   "outputs": [],
   "source": [
    "\n",
    "income_data = df_income[df_income['symbol'] == symbol]\n",
    "balance_data = df_balance[df_balance['symbol'] == symbol]\n",
    "overview_data = df_overview[df_overview['symbol'] == symbol]\n",
    "earnings_data = df_earnings[df_earnings['symbol'] == symbol]\n",
    "cash_flow_data = df_cash_flow[df_cash_flow['symbol'] == symbol]\n",
    "technical_data = df_technical[df_technical['ticker']==symbol]\n",
    "price_data = df_price[df_price['ticker'] == symbol]\n",
    "sentiment_data = df_sentiment[df_sentiment['ticker'] == symbol]"
   ]
  },
  {
   "cell_type": "code",
   "execution_count": 478,
   "id": "3c061545",
   "metadata": {},
   "outputs": [],
   "source": [
    "income_data = income_data.drop(columns=['symbol','reportedCurrency'])"
   ]
  },
  {
   "cell_type": "code",
   "execution_count": 479,
   "id": "c50a592b",
   "metadata": {},
   "outputs": [],
   "source": [
    "all_nan_columns = income_data.columns[income_data.isna().all()].tolist()"
   ]
  },
  {
   "cell_type": "code",
   "execution_count": 480,
   "id": "b9207540",
   "metadata": {},
   "outputs": [],
   "source": [
    "income_data = income_data.drop(columns=all_nan_columns)"
   ]
  },
  {
   "cell_type": "code",
   "execution_count": 481,
   "id": "50f87934",
   "metadata": {},
   "outputs": [],
   "source": [
    "balance_data = balance_data.drop(columns=['symbol','reportedCurrency'])"
   ]
  },
  {
   "cell_type": "code",
   "execution_count": 482,
   "id": "4b5ead22",
   "metadata": {},
   "outputs": [],
   "source": [
    "all_nan_columns = balance_data.columns[balance_data.isna().all()].tolist()"
   ]
  },
  {
   "cell_type": "code",
   "execution_count": 483,
   "id": "2c3c0417",
   "metadata": {},
   "outputs": [],
   "source": [
    "balance_data = balance_data.drop(columns=all_nan_columns)"
   ]
  },
  {
   "cell_type": "code",
   "execution_count": 484,
   "id": "638d1b8b",
   "metadata": {},
   "outputs": [],
   "source": [
    "cash_flow_data = cash_flow_data[['fiscalDateEnding','operatingCashflow']]"
   ]
  },
  {
   "cell_type": "code",
   "execution_count": 485,
   "id": "834305a1",
   "metadata": {},
   "outputs": [],
   "source": [
    "earnings_data = earnings_data[['fiscalDateEnding','reportedEPS']]"
   ]
  },
  {
   "cell_type": "code",
   "execution_count": 486,
   "id": "bc12f52a",
   "metadata": {},
   "outputs": [],
   "source": [
    "merged_earnings_df = reduce(lambda left, right: pd.merge(left, right, on='fiscalDateEnding'), [income_data, balance_data, cash_flow_data, earnings_data])"
   ]
  },
  {
   "cell_type": "code",
   "execution_count": 487,
   "id": "a9d79ee2",
   "metadata": {},
   "outputs": [],
   "source": [
    "merged_earnings_df = merged_earnings_df.sort_values(by='fiscalDateEnding')"
   ]
  },
  {
   "cell_type": "markdown",
   "id": "42462e3b",
   "metadata": {},
   "source": [
    "### Combining dfs"
   ]
  },
  {
   "cell_type": "code",
   "execution_count": 488,
   "id": "93641eed",
   "metadata": {},
   "outputs": [],
   "source": [
    "all_dates = pd.date_range(start=start_date, end=end_date, freq='D')\n"
   ]
  },
  {
   "cell_type": "code",
   "execution_count": 489,
   "id": "1490bba0",
   "metadata": {},
   "outputs": [],
   "source": [
    "df_dates = pd.DataFrame(all_dates,columns=['all_date'])"
   ]
  },
  {
   "cell_type": "code",
   "execution_count": 537,
   "id": "643ec9e8",
   "metadata": {},
   "outputs": [],
   "source": [
    "df = df_dates.merge(price_data[['Date','Close']], left_on='all_date',right_on='Date', how='left')"
   ]
  },
  {
   "cell_type": "code",
   "execution_count": 538,
   "id": "25ba1f54",
   "metadata": {},
   "outputs": [],
   "source": [
    "df = df.merge(merged_earnings_df, left_on='all_date', right_on='fiscalDateEnding', how='left')"
   ]
  },
  {
   "cell_type": "code",
   "execution_count": 539,
   "id": "a5cca965",
   "metadata": {},
   "outputs": [],
   "source": [
    "df[merged_earnings_df.columns] = df[merged_earnings_df.columns].fillna(method='ffill')"
   ]
  },
  {
   "cell_type": "code",
   "execution_count": 540,
   "id": "0d0513ba",
   "metadata": {},
   "outputs": [],
   "source": [
    "df = df.merge(sentiment_data[['date','sentiment_score']], left_on='all_date', right_on='date', how='left')"
   ]
  },
  {
   "cell_type": "code",
   "execution_count": 541,
   "id": "1c110461",
   "metadata": {},
   "outputs": [],
   "source": [
    "df['sentiment_score'] = df['sentiment_score'].fillna(0)"
   ]
  },
  {
   "cell_type": "code",
   "execution_count": 542,
   "id": "90b538dc",
   "metadata": {},
   "outputs": [
    {
     "ename": "KeyError",
     "evalue": "\"['ticker', 'company_name'] not found in axis\"",
     "output_type": "error",
     "traceback": [
      "\u001b[1;31m---------------------------------------------------------------------------\u001b[0m",
      "\u001b[1;31mKeyError\u001b[0m                                  Traceback (most recent call last)",
      "Cell \u001b[1;32mIn[542], line 1\u001b[0m\n\u001b[1;32m----> 1\u001b[0m technical_data \u001b[38;5;241m=\u001b[39m technical_data\u001b[38;5;241m.\u001b[39mdrop(columns\u001b[38;5;241m=\u001b[39m[\u001b[38;5;124m'\u001b[39m\u001b[38;5;124mticker\u001b[39m\u001b[38;5;124m'\u001b[39m,\u001b[38;5;124m'\u001b[39m\u001b[38;5;124mcompany_name\u001b[39m\u001b[38;5;124m'\u001b[39m])\n",
      "File \u001b[1;32mc:\\Users\\natal\\anaconda3\\Lib\\site-packages\\pandas\\core\\frame.py:5258\u001b[0m, in \u001b[0;36mDataFrame.drop\u001b[1;34m(self, labels, axis, index, columns, level, inplace, errors)\u001b[0m\n\u001b[0;32m   5110\u001b[0m \u001b[38;5;28;01mdef\u001b[39;00m \u001b[38;5;21mdrop\u001b[39m(\n\u001b[0;32m   5111\u001b[0m     \u001b[38;5;28mself\u001b[39m,\n\u001b[0;32m   5112\u001b[0m     labels: IndexLabel \u001b[38;5;241m=\u001b[39m \u001b[38;5;28;01mNone\u001b[39;00m,\n\u001b[1;32m   (...)\u001b[0m\n\u001b[0;32m   5119\u001b[0m     errors: IgnoreRaise \u001b[38;5;241m=\u001b[39m \u001b[38;5;124m\"\u001b[39m\u001b[38;5;124mraise\u001b[39m\u001b[38;5;124m\"\u001b[39m,\n\u001b[0;32m   5120\u001b[0m ) \u001b[38;5;241m-\u001b[39m\u001b[38;5;241m>\u001b[39m DataFrame \u001b[38;5;241m|\u001b[39m \u001b[38;5;28;01mNone\u001b[39;00m:\n\u001b[0;32m   5121\u001b[0m \u001b[38;5;250m    \u001b[39m\u001b[38;5;124;03m\"\"\"\u001b[39;00m\n\u001b[0;32m   5122\u001b[0m \u001b[38;5;124;03m    Drop specified labels from rows or columns.\u001b[39;00m\n\u001b[0;32m   5123\u001b[0m \n\u001b[1;32m   (...)\u001b[0m\n\u001b[0;32m   5256\u001b[0m \u001b[38;5;124;03m            weight  1.0     0.8\u001b[39;00m\n\u001b[0;32m   5257\u001b[0m \u001b[38;5;124;03m    \"\"\"\u001b[39;00m\n\u001b[1;32m-> 5258\u001b[0m     \u001b[38;5;28;01mreturn\u001b[39;00m \u001b[38;5;28msuper\u001b[39m()\u001b[38;5;241m.\u001b[39mdrop(\n\u001b[0;32m   5259\u001b[0m         labels\u001b[38;5;241m=\u001b[39mlabels,\n\u001b[0;32m   5260\u001b[0m         axis\u001b[38;5;241m=\u001b[39maxis,\n\u001b[0;32m   5261\u001b[0m         index\u001b[38;5;241m=\u001b[39mindex,\n\u001b[0;32m   5262\u001b[0m         columns\u001b[38;5;241m=\u001b[39mcolumns,\n\u001b[0;32m   5263\u001b[0m         level\u001b[38;5;241m=\u001b[39mlevel,\n\u001b[0;32m   5264\u001b[0m         inplace\u001b[38;5;241m=\u001b[39minplace,\n\u001b[0;32m   5265\u001b[0m         errors\u001b[38;5;241m=\u001b[39merrors,\n\u001b[0;32m   5266\u001b[0m     )\n",
      "File \u001b[1;32mc:\\Users\\natal\\anaconda3\\Lib\\site-packages\\pandas\\core\\generic.py:4549\u001b[0m, in \u001b[0;36mNDFrame.drop\u001b[1;34m(self, labels, axis, index, columns, level, inplace, errors)\u001b[0m\n\u001b[0;32m   4547\u001b[0m \u001b[38;5;28;01mfor\u001b[39;00m axis, labels \u001b[38;5;129;01min\u001b[39;00m axes\u001b[38;5;241m.\u001b[39mitems():\n\u001b[0;32m   4548\u001b[0m     \u001b[38;5;28;01mif\u001b[39;00m labels \u001b[38;5;129;01mis\u001b[39;00m \u001b[38;5;129;01mnot\u001b[39;00m \u001b[38;5;28;01mNone\u001b[39;00m:\n\u001b[1;32m-> 4549\u001b[0m         obj \u001b[38;5;241m=\u001b[39m obj\u001b[38;5;241m.\u001b[39m_drop_axis(labels, axis, level\u001b[38;5;241m=\u001b[39mlevel, errors\u001b[38;5;241m=\u001b[39merrors)\n\u001b[0;32m   4551\u001b[0m \u001b[38;5;28;01mif\u001b[39;00m inplace:\n\u001b[0;32m   4552\u001b[0m     \u001b[38;5;28mself\u001b[39m\u001b[38;5;241m.\u001b[39m_update_inplace(obj)\n",
      "File \u001b[1;32mc:\\Users\\natal\\anaconda3\\Lib\\site-packages\\pandas\\core\\generic.py:4591\u001b[0m, in \u001b[0;36mNDFrame._drop_axis\u001b[1;34m(self, labels, axis, level, errors, only_slice)\u001b[0m\n\u001b[0;32m   4589\u001b[0m         new_axis \u001b[38;5;241m=\u001b[39m axis\u001b[38;5;241m.\u001b[39mdrop(labels, level\u001b[38;5;241m=\u001b[39mlevel, errors\u001b[38;5;241m=\u001b[39merrors)\n\u001b[0;32m   4590\u001b[0m     \u001b[38;5;28;01melse\u001b[39;00m:\n\u001b[1;32m-> 4591\u001b[0m         new_axis \u001b[38;5;241m=\u001b[39m axis\u001b[38;5;241m.\u001b[39mdrop(labels, errors\u001b[38;5;241m=\u001b[39merrors)\n\u001b[0;32m   4592\u001b[0m     indexer \u001b[38;5;241m=\u001b[39m axis\u001b[38;5;241m.\u001b[39mget_indexer(new_axis)\n\u001b[0;32m   4594\u001b[0m \u001b[38;5;66;03m# Case for non-unique axis\u001b[39;00m\n\u001b[0;32m   4595\u001b[0m \u001b[38;5;28;01melse\u001b[39;00m:\n",
      "File \u001b[1;32mc:\\Users\\natal\\anaconda3\\Lib\\site-packages\\pandas\\core\\indexes\\base.py:6699\u001b[0m, in \u001b[0;36mIndex.drop\u001b[1;34m(self, labels, errors)\u001b[0m\n\u001b[0;32m   6697\u001b[0m \u001b[38;5;28;01mif\u001b[39;00m mask\u001b[38;5;241m.\u001b[39many():\n\u001b[0;32m   6698\u001b[0m     \u001b[38;5;28;01mif\u001b[39;00m errors \u001b[38;5;241m!=\u001b[39m \u001b[38;5;124m\"\u001b[39m\u001b[38;5;124mignore\u001b[39m\u001b[38;5;124m\"\u001b[39m:\n\u001b[1;32m-> 6699\u001b[0m         \u001b[38;5;28;01mraise\u001b[39;00m \u001b[38;5;167;01mKeyError\u001b[39;00m(\u001b[38;5;124mf\u001b[39m\u001b[38;5;124m\"\u001b[39m\u001b[38;5;132;01m{\u001b[39;00m\u001b[38;5;28mlist\u001b[39m(labels[mask])\u001b[38;5;132;01m}\u001b[39;00m\u001b[38;5;124m not found in axis\u001b[39m\u001b[38;5;124m\"\u001b[39m)\n\u001b[0;32m   6700\u001b[0m     indexer \u001b[38;5;241m=\u001b[39m indexer[\u001b[38;5;241m~\u001b[39mmask]\n\u001b[0;32m   6701\u001b[0m \u001b[38;5;28;01mreturn\u001b[39;00m \u001b[38;5;28mself\u001b[39m\u001b[38;5;241m.\u001b[39mdelete(indexer)\n",
      "\u001b[1;31mKeyError\u001b[0m: \"['ticker', 'company_name'] not found in axis\""
     ]
    }
   ],
   "source": [
    "technical_data = technical_data.drop(columns=['ticker','company_name'])"
   ]
  },
  {
   "cell_type": "code",
   "execution_count": 543,
   "id": "f5ea3c91",
   "metadata": {},
   "outputs": [],
   "source": [
    "df = df.merge(technical_data, left_on='all_date', right_on='date', how='left')"
   ]
  },
  {
   "cell_type": "code",
   "execution_count": 544,
   "id": "ef427cc4",
   "metadata": {},
   "outputs": [],
   "source": [
    "df = df[df['all_date']>='2024-01-02']"
   ]
  },
  {
   "cell_type": "code",
   "execution_count": 545,
   "id": "a50e0abf",
   "metadata": {},
   "outputs": [],
   "source": [
    "df = df.drop(columns=['all_date','Date','fiscalDateEnding','date_x','date_y'])"
   ]
  },
  {
   "cell_type": "code",
   "execution_count": 546,
   "id": "a4faf4a9",
   "metadata": {},
   "outputs": [],
   "source": [
    "df = df[~(df['Close'].isna())]"
   ]
  },
  {
   "cell_type": "code",
   "execution_count": 547,
   "id": "2b11ecd8",
   "metadata": {},
   "outputs": [],
   "source": [
    "df['Return'] = df['Close'].pct_change().fillna(0)"
   ]
  },
  {
   "cell_type": "code",
   "execution_count": 548,
   "id": "e38fa2c7",
   "metadata": {},
   "outputs": [],
   "source": [
    "lags = [1, 2, 3, 5, 10, 20]\n",
    "for lag in lags:\n",
    "    df[f'return_lag{lag}'] = df['Return'].shift(lag)"
   ]
  },
  {
   "cell_type": "code",
   "execution_count": 549,
   "id": "154ca755",
   "metadata": {},
   "outputs": [],
   "source": [
    "df = df[20:]"
   ]
  },
  {
   "cell_type": "code",
   "execution_count": 550,
   "id": "a73e6440",
   "metadata": {},
   "outputs": [],
   "source": [
    "df['Direction'] = df['Return'].apply(lambda x: 1 if x > 0 else 0)"
   ]
  },
  {
   "cell_type": "code",
   "execution_count": 551,
   "id": "6ad6157a",
   "metadata": {},
   "outputs": [],
   "source": [
    "### Exclude Outliers\n",
    "df = df[(np.abs(df['Return'] - df['Return'].mean()) <= (3 * df['Return'].std()))]\n",
    "# df = df[df['Date']!='2014-06-09']\n",
    "# df = df[df['Date']!='2020-08-31']\n",
    "# df = df[df['Date']!='2020-09-01']\n"
   ]
  },
  {
   "cell_type": "code",
   "execution_count": 552,
   "id": "105005cd",
   "metadata": {},
   "outputs": [],
   "source": [
    "df = df.fillna(method='ffill')"
   ]
  },
  {
   "cell_type": "code",
   "execution_count": 553,
   "id": "9a880cb1",
   "metadata": {},
   "outputs": [],
   "source": [
    "df_X = df.drop(columns=['Close','Return','Direction'])"
   ]
  },
  {
   "cell_type": "code",
   "execution_count": 555,
   "id": "b871c77e",
   "metadata": {},
   "outputs": [],
   "source": [
    "from sklearn.preprocessing import StandardScaler\n",
    "\n",
    "scaler = StandardScaler()\n",
    "df_X = scaler.fit_transform(df_X[df_X.columns])\n"
   ]
  },
  {
   "cell_type": "code",
   "execution_count": 556,
   "id": "4a304fb7",
   "metadata": {},
   "outputs": [],
   "source": [
    "df_Y = df['Direction']"
   ]
  },
  {
   "cell_type": "code",
   "execution_count": 557,
   "id": "5764d8eb",
   "metadata": {},
   "outputs": [],
   "source": [
    "from sklearn.ensemble import RandomForestClassifier"
   ]
  },
  {
   "cell_type": "code",
   "execution_count": 558,
   "id": "feb0435b",
   "metadata": {},
   "outputs": [],
   "source": [
    "X_train, X_test, y_train, y_test = train_test_split(\n",
    "    df_X, df_Y, test_size=0.2, random_state=32\n",
    ")\n",
    "\n",
    "# 5. Initialize and fit the Random Forest model\n",
    "rf = RandomForestClassifier(\n",
    "    n_estimators=100,  # Number of trees\n",
    "    max_depth=None,    # Let trees expand until all leaves are pure\n",
    "    random_state=42\n",
    ")\n",
    "rf.fit(X_train, y_train)\n",
    "\n",
    "y_pred = rf.predict(X_test)\n",
    "\n"
   ]
  },
  {
   "cell_type": "code",
   "execution_count": 559,
   "id": "587bb7c8",
   "metadata": {},
   "outputs": [
    {
     "name": "stdout",
     "output_type": "stream",
     "text": [
      "Accuracy: 0.6714285714285714\n",
      "              precision    recall  f1-score   support\n",
      "\n",
      "           0       0.69      0.63      0.66        35\n",
      "           1       0.66      0.71      0.68        35\n",
      "\n",
      "    accuracy                           0.67        70\n",
      "   macro avg       0.67      0.67      0.67        70\n",
      "weighted avg       0.67      0.67      0.67        70\n",
      "\n",
      "Confusion Matrix:\n",
      " [[22 13]\n",
      " [10 25]]\n"
     ]
    }
   ],
   "source": [
    "from sklearn.metrics import accuracy_score, classification_report, confusion_matrix\n",
    "\n",
    "print(\"Accuracy:\", accuracy_score(y_test, y_pred))\n",
    "print(classification_report(y_test, y_pred))\n",
    "print(\"Confusion Matrix:\\n\", confusion_matrix(y_test, y_pred))\n"
   ]
  },
  {
   "cell_type": "code",
   "execution_count": null,
   "id": "a8adca3d",
   "metadata": {},
   "outputs": [],
   "source": []
  }
 ],
 "metadata": {
  "kernelspec": {
   "display_name": "base",
   "language": "python",
   "name": "python3"
  },
  "language_info": {
   "codemirror_mode": {
    "name": "ipython",
    "version": 3
   },
   "file_extension": ".py",
   "mimetype": "text/x-python",
   "name": "python",
   "nbconvert_exporter": "python",
   "pygments_lexer": "ipython3",
   "version": "3.11.5"
  }
 },
 "nbformat": 4,
 "nbformat_minor": 5
}
