{
 "cells": [
  {
   "cell_type": "code",
   "execution_count": 1,
   "id": "5ac6b097",
   "metadata": {},
   "outputs": [],
   "source": [
    "import requests\n",
    "import pandas as pd\n",
    "import numpy as np\n",
    "import json\n",
    "from datetime import datetime\n",
    "import time\n",
    "import os\n",
    "from dotenv import load_dotenv\n",
    "from sklearn.linear_model import LinearRegression\n",
    "from sklearn.decomposition import PCA\n",
    "import statsmodels.api as sm\n",
    "from functools import reduce\n",
    "\n",
    "from sklearn.metrics import mean_squared_error\n",
    "from sklearn.ensemble import  RandomForestRegressor\n",
    "from sklearn.model_selection import train_test_split, GridSearchCV\n",
    "from sklearn.metrics import mean_squared_error, r2_score\n",
    "\n",
    "import warnings\n",
    "warnings.filterwarnings(\"ignore\")\n",
    "\n"
   ]
  },
  {
   "cell_type": "code",
   "execution_count": 2,
   "id": "1e580a9a",
   "metadata": {},
   "outputs": [],
   "source": [
    "df_income = pd.read_csv('../data/income_statement.csv')\n",
    "df_balance = pd.read_csv('../data/balance_sheet.csv')\n",
    "df_cash_flow = pd.read_csv('../data/cash_flow_statement.csv')   \n",
    "df_earnings = pd.read_csv('../data/earnings.csv')   \n",
    "df_overview = pd.read_csv('../data/company_overview.csv')"
   ]
  },
  {
   "cell_type": "code",
   "execution_count": 3,
   "id": "e6a3c407",
   "metadata": {},
   "outputs": [],
   "source": [
    "df_technical = pd.read_csv('../data/technical_data.csv')"
   ]
  },
  {
   "cell_type": "code",
   "execution_count": 4,
   "id": "8e7c9ab7",
   "metadata": {},
   "outputs": [],
   "source": [
    "df_price = pd.read_csv('../data/tech_stock_daily_price.csv')"
   ]
  },
  {
   "cell_type": "code",
   "execution_count": 5,
   "id": "fa12105c",
   "metadata": {},
   "outputs": [],
   "source": [
    "df_sentiment = pd.read_csv('../data/daily_sentiment_score.csv')"
   ]
  },
  {
   "cell_type": "code",
   "execution_count": 60,
   "id": "0603c1dd",
   "metadata": {},
   "outputs": [],
   "source": [
    "df_SP500 = pd.read_csv('../data/SP500_daily_price.csv')"
   ]
  },
  {
   "cell_type": "code",
   "execution_count": 64,
   "id": "83d5ccee",
   "metadata": {},
   "outputs": [],
   "source": [
    "df_income['fiscalDateEnding'] = pd.to_datetime(df_income['fiscalDateEnding'])\n",
    "df_balance['fiscalDateEnding'] = pd.to_datetime(df_balance['fiscalDateEnding'])\n",
    "df_cash_flow['fiscalDateEnding'] = pd.to_datetime(df_cash_flow['fiscalDateEnding'])\n",
    "df_earnings['fiscalDateEnding'] = pd.to_datetime(df_earnings['fiscalDateEnding'])\n",
    "df_technical['date'] = pd.to_datetime(df_technical['date'])\n",
    "df_price['Date'] = pd.to_datetime(df_price['Date'])\n",
    "df_sentiment['date'] = pd.to_datetime(df_sentiment['date'])\n",
    "df_SP500['Date'] = pd.to_datetime(df_SP500['Date'])\n"
   ]
  },
  {
   "cell_type": "code",
   "execution_count": 66,
   "id": "f5499d7d",
   "metadata": {},
   "outputs": [],
   "source": [
    "df_income = df_income.sort_values(by=['symbol', 'fiscalDateEnding'])\n",
    "df_balance = df_balance.sort_values(by=['symbol', 'fiscalDateEnding'])\n",
    "df_cash_flow = df_cash_flow.sort_values(by=['symbol', 'fiscalDateEnding'])\n",
    "df_earnings = df_earnings.sort_values(by=['symbol', 'fiscalDateEnding'])\n",
    "df_technical = df_technical.sort_values(by=['ticker', 'date'])\n",
    "df_price = df_price.sort_values(by=['ticker', 'Date'])\n",
    "df_sentiment = df_sentiment.sort_values(by=['ticker', 'date'])\n",
    "df_SP500 = df_SP500.sort_values(by=['ticker', 'Date'])"
   ]
  },
  {
   "cell_type": "code",
   "execution_count": 67,
   "id": "9adeddac",
   "metadata": {},
   "outputs": [],
   "source": [
    "symbol='AAPL'"
   ]
  },
  {
   "cell_type": "code",
   "execution_count": 68,
   "id": "f1878618",
   "metadata": {},
   "outputs": [],
   "source": [
    "income_data = df_income[df_income['symbol'] == symbol]\n",
    "balance_data = df_balance[df_balance['symbol'] == symbol]\n",
    "overview_data = df_overview[df_overview['symbol'] == symbol]\n",
    "earnings_data = df_earnings[df_earnings['symbol'] == symbol]\n",
    "cash_flow_data = df_cash_flow[df_cash_flow['symbol'] == symbol]\n",
    "technical_data = df_technical[df_technical['ticker']==symbol]\n",
    "price_data = df_price[df_price['ticker'] == symbol]\n",
    "sentiment_data = df_sentiment[df_sentiment['ticker'] == symbol]"
   ]
  },
  {
   "cell_type": "code",
   "execution_count": 69,
   "id": "98627778",
   "metadata": {},
   "outputs": [],
   "source": [
    "competitors_data = df_price[df_price['ticker'].isin([ 'MSFT', 'GOOGL', 'AMZN', 'META'])]"
   ]
  },
  {
   "cell_type": "code",
   "execution_count": 70,
   "id": "e7aed7dc",
   "metadata": {},
   "outputs": [],
   "source": [
    "competitors_data = competitors_data.pivot(index='Date', columns='ticker', values='Close')\n",
    "competitors_data = competitors_data.reset_index() "
   ]
  },
  {
   "cell_type": "code",
   "execution_count": 71,
   "id": "4171b27f",
   "metadata": {},
   "outputs": [],
   "source": [
    "competitors_data[competitors_data.columns[1:]] = competitors_data[competitors_data.columns[1:]].pct_change()"
   ]
  },
  {
   "cell_type": "code",
   "execution_count": 72,
   "id": "948da493",
   "metadata": {},
   "outputs": [],
   "source": [
    "competitors_sentiment = df_sentiment[df_sentiment['ticker'].isin([ 'MSFT', 'GOOGL', 'AMZN', 'META'])]\n",
    "competitors_sentiment = competitors_sentiment.pivot(index='date', columns='ticker', values='sentiment_score')\n",
    "competitors_sentiment = competitors_sentiment.reset_index()"
   ]
  },
  {
   "cell_type": "code",
   "execution_count": 104,
   "id": "c1b5a43c",
   "metadata": {},
   "outputs": [],
   "source": [
    "SP500_data = df_SP500.rename(columns={'Close': 'SP500_Close'})\n",
    "SP500_data = SP500_data[['Date', 'SP500_Close']]"
   ]
  },
  {
   "cell_type": "code",
   "execution_count": 105,
   "id": "e51ebf72",
   "metadata": {},
   "outputs": [],
   "source": [
    "dict_data={\n",
    "    'AAPL':\n",
    "           {\n",
    "               'start_date':'2023-12-29',\n",
    "               'end_date':'2025-06-29', \n",
    "           }\n",
    "}"
   ]
  },
  {
   "cell_type": "code",
   "execution_count": 106,
   "id": "ab984c87",
   "metadata": {},
   "outputs": [],
   "source": [
    "start_date = dict_data[symbol]['start_date']\n",
    "end_date = dict_data[symbol]['end_date']"
   ]
  },
  {
   "cell_type": "code",
   "execution_count": 107,
   "id": "04b4257a",
   "metadata": {},
   "outputs": [],
   "source": [
    "income_data = income_data[income_data['fiscalDateEnding'] >= start_date]\n",
    "balance_data = balance_data[balance_data['fiscalDateEnding'] >= start_date]\n",
    "cash_flow_data = cash_flow_data[cash_flow_data['fiscalDateEnding']>= start_date]\n",
    "earnings_data = earnings_data[earnings_data['fiscalDateEnding'] >= start_date]\n",
    "technical_data = technical_data[technical_data['date']>=start_date]\n",
    "price_data = price_data[price_data['Date'] >= start_date]\n",
    "sentiment_data = sentiment_data[sentiment_data['date'] >= start_date]\n",
    "competitors_data = competitors_data[competitors_data['Date'] >= start_date]\n",
    "competitors_sentiment = competitors_sentiment[competitors_sentiment['date'] >= start_date]"
   ]
  },
  {
   "cell_type": "code",
   "execution_count": 108,
   "id": "19d8c95e",
   "metadata": {},
   "outputs": [],
   "source": [
    "competitors_sentiment = competitors_sentiment.rename(columns={\n",
    "    'MSFT': 'MSFT_sentiment',\n",
    "    'GOOGL': 'GOOGL_sentiment',\n",
    "    'AMZN': 'AMZN_sentiment',\n",
    "    'META': 'META_sentiment'\n",
    "    })"
   ]
  },
  {
   "cell_type": "code",
   "execution_count": 109,
   "id": "8f1606fe",
   "metadata": {},
   "outputs": [],
   "source": [
    "earliest_date = max(technical_data['date'].min(),price_data['Date'].min(), earnings_data['fiscalDateEnding'].min(), income_data['fiscalDateEnding'].min(), balance_data['fiscalDateEnding'].min(), cash_flow_data['fiscalDateEnding'].min())\n",
    "latest_date = min(technical_data['date'].max(),price_data['Date'].max(),sentiment_data['date'].max())"
   ]
  },
  {
   "cell_type": "code",
   "execution_count": 110,
   "id": "dc01c0fe",
   "metadata": {},
   "outputs": [
    {
     "name": "stdout",
     "output_type": "stream",
     "text": [
      "earliest_date: 2023-12-31 00:00:00\n",
      "latest_date: 2025-07-01 00:00:00\n"
     ]
    }
   ],
   "source": [
    "print(f\"earliest_date: {earliest_date}\")\n",
    "print(f\"latest_date: {latest_date}\") "
   ]
  },
  {
   "cell_type": "code",
   "execution_count": 111,
   "id": "3c061545",
   "metadata": {},
   "outputs": [
    {
     "ename": "KeyError",
     "evalue": "\"['symbol', 'reportedCurrency'] not found in axis\"",
     "output_type": "error",
     "traceback": [
      "\u001b[1;31m---------------------------------------------------------------------------\u001b[0m",
      "\u001b[1;31mKeyError\u001b[0m                                  Traceback (most recent call last)",
      "Cell \u001b[1;32mIn[111], line 1\u001b[0m\n\u001b[1;32m----> 1\u001b[0m income_data \u001b[38;5;241m=\u001b[39m income_data\u001b[38;5;241m.\u001b[39mdrop(columns\u001b[38;5;241m=\u001b[39m[\u001b[38;5;124m'\u001b[39m\u001b[38;5;124msymbol\u001b[39m\u001b[38;5;124m'\u001b[39m,\u001b[38;5;124m'\u001b[39m\u001b[38;5;124mreportedCurrency\u001b[39m\u001b[38;5;124m'\u001b[39m])\n",
      "File \u001b[1;32mc:\\Users\\natal\\anaconda3\\Lib\\site-packages\\pandas\\core\\frame.py:5258\u001b[0m, in \u001b[0;36mDataFrame.drop\u001b[1;34m(self, labels, axis, index, columns, level, inplace, errors)\u001b[0m\n\u001b[0;32m   5110\u001b[0m \u001b[38;5;28;01mdef\u001b[39;00m \u001b[38;5;21mdrop\u001b[39m(\n\u001b[0;32m   5111\u001b[0m     \u001b[38;5;28mself\u001b[39m,\n\u001b[0;32m   5112\u001b[0m     labels: IndexLabel \u001b[38;5;241m=\u001b[39m \u001b[38;5;28;01mNone\u001b[39;00m,\n\u001b[1;32m   (...)\u001b[0m\n\u001b[0;32m   5119\u001b[0m     errors: IgnoreRaise \u001b[38;5;241m=\u001b[39m \u001b[38;5;124m\"\u001b[39m\u001b[38;5;124mraise\u001b[39m\u001b[38;5;124m\"\u001b[39m,\n\u001b[0;32m   5120\u001b[0m ) \u001b[38;5;241m-\u001b[39m\u001b[38;5;241m>\u001b[39m DataFrame \u001b[38;5;241m|\u001b[39m \u001b[38;5;28;01mNone\u001b[39;00m:\n\u001b[0;32m   5121\u001b[0m \u001b[38;5;250m    \u001b[39m\u001b[38;5;124;03m\"\"\"\u001b[39;00m\n\u001b[0;32m   5122\u001b[0m \u001b[38;5;124;03m    Drop specified labels from rows or columns.\u001b[39;00m\n\u001b[0;32m   5123\u001b[0m \n\u001b[1;32m   (...)\u001b[0m\n\u001b[0;32m   5256\u001b[0m \u001b[38;5;124;03m            weight  1.0     0.8\u001b[39;00m\n\u001b[0;32m   5257\u001b[0m \u001b[38;5;124;03m    \"\"\"\u001b[39;00m\n\u001b[1;32m-> 5258\u001b[0m     \u001b[38;5;28;01mreturn\u001b[39;00m \u001b[38;5;28msuper\u001b[39m()\u001b[38;5;241m.\u001b[39mdrop(\n\u001b[0;32m   5259\u001b[0m         labels\u001b[38;5;241m=\u001b[39mlabels,\n\u001b[0;32m   5260\u001b[0m         axis\u001b[38;5;241m=\u001b[39maxis,\n\u001b[0;32m   5261\u001b[0m         index\u001b[38;5;241m=\u001b[39mindex,\n\u001b[0;32m   5262\u001b[0m         columns\u001b[38;5;241m=\u001b[39mcolumns,\n\u001b[0;32m   5263\u001b[0m         level\u001b[38;5;241m=\u001b[39mlevel,\n\u001b[0;32m   5264\u001b[0m         inplace\u001b[38;5;241m=\u001b[39minplace,\n\u001b[0;32m   5265\u001b[0m         errors\u001b[38;5;241m=\u001b[39merrors,\n\u001b[0;32m   5266\u001b[0m     )\n",
      "File \u001b[1;32mc:\\Users\\natal\\anaconda3\\Lib\\site-packages\\pandas\\core\\generic.py:4549\u001b[0m, in \u001b[0;36mNDFrame.drop\u001b[1;34m(self, labels, axis, index, columns, level, inplace, errors)\u001b[0m\n\u001b[0;32m   4547\u001b[0m \u001b[38;5;28;01mfor\u001b[39;00m axis, labels \u001b[38;5;129;01min\u001b[39;00m axes\u001b[38;5;241m.\u001b[39mitems():\n\u001b[0;32m   4548\u001b[0m     \u001b[38;5;28;01mif\u001b[39;00m labels \u001b[38;5;129;01mis\u001b[39;00m \u001b[38;5;129;01mnot\u001b[39;00m \u001b[38;5;28;01mNone\u001b[39;00m:\n\u001b[1;32m-> 4549\u001b[0m         obj \u001b[38;5;241m=\u001b[39m obj\u001b[38;5;241m.\u001b[39m_drop_axis(labels, axis, level\u001b[38;5;241m=\u001b[39mlevel, errors\u001b[38;5;241m=\u001b[39merrors)\n\u001b[0;32m   4551\u001b[0m \u001b[38;5;28;01mif\u001b[39;00m inplace:\n\u001b[0;32m   4552\u001b[0m     \u001b[38;5;28mself\u001b[39m\u001b[38;5;241m.\u001b[39m_update_inplace(obj)\n",
      "File \u001b[1;32mc:\\Users\\natal\\anaconda3\\Lib\\site-packages\\pandas\\core\\generic.py:4591\u001b[0m, in \u001b[0;36mNDFrame._drop_axis\u001b[1;34m(self, labels, axis, level, errors, only_slice)\u001b[0m\n\u001b[0;32m   4589\u001b[0m         new_axis \u001b[38;5;241m=\u001b[39m axis\u001b[38;5;241m.\u001b[39mdrop(labels, level\u001b[38;5;241m=\u001b[39mlevel, errors\u001b[38;5;241m=\u001b[39merrors)\n\u001b[0;32m   4590\u001b[0m     \u001b[38;5;28;01melse\u001b[39;00m:\n\u001b[1;32m-> 4591\u001b[0m         new_axis \u001b[38;5;241m=\u001b[39m axis\u001b[38;5;241m.\u001b[39mdrop(labels, errors\u001b[38;5;241m=\u001b[39merrors)\n\u001b[0;32m   4592\u001b[0m     indexer \u001b[38;5;241m=\u001b[39m axis\u001b[38;5;241m.\u001b[39mget_indexer(new_axis)\n\u001b[0;32m   4594\u001b[0m \u001b[38;5;66;03m# Case for non-unique axis\u001b[39;00m\n\u001b[0;32m   4595\u001b[0m \u001b[38;5;28;01melse\u001b[39;00m:\n",
      "File \u001b[1;32mc:\\Users\\natal\\anaconda3\\Lib\\site-packages\\pandas\\core\\indexes\\base.py:6699\u001b[0m, in \u001b[0;36mIndex.drop\u001b[1;34m(self, labels, errors)\u001b[0m\n\u001b[0;32m   6697\u001b[0m \u001b[38;5;28;01mif\u001b[39;00m mask\u001b[38;5;241m.\u001b[39many():\n\u001b[0;32m   6698\u001b[0m     \u001b[38;5;28;01mif\u001b[39;00m errors \u001b[38;5;241m!=\u001b[39m \u001b[38;5;124m\"\u001b[39m\u001b[38;5;124mignore\u001b[39m\u001b[38;5;124m\"\u001b[39m:\n\u001b[1;32m-> 6699\u001b[0m         \u001b[38;5;28;01mraise\u001b[39;00m \u001b[38;5;167;01mKeyError\u001b[39;00m(\u001b[38;5;124mf\u001b[39m\u001b[38;5;124m\"\u001b[39m\u001b[38;5;132;01m{\u001b[39;00m\u001b[38;5;28mlist\u001b[39m(labels[mask])\u001b[38;5;132;01m}\u001b[39;00m\u001b[38;5;124m not found in axis\u001b[39m\u001b[38;5;124m\"\u001b[39m)\n\u001b[0;32m   6700\u001b[0m     indexer \u001b[38;5;241m=\u001b[39m indexer[\u001b[38;5;241m~\u001b[39mmask]\n\u001b[0;32m   6701\u001b[0m \u001b[38;5;28;01mreturn\u001b[39;00m \u001b[38;5;28mself\u001b[39m\u001b[38;5;241m.\u001b[39mdelete(indexer)\n",
      "\u001b[1;31mKeyError\u001b[0m: \"['symbol', 'reportedCurrency'] not found in axis\""
     ]
    }
   ],
   "source": [
    "income_data = income_data.drop(columns=['symbol','reportedCurrency'])"
   ]
  },
  {
   "cell_type": "code",
   "execution_count": null,
   "id": "c50a592b",
   "metadata": {},
   "outputs": [],
   "source": [
    "all_nan_columns = income_data.columns[income_data.isna().all()].tolist()"
   ]
  },
  {
   "cell_type": "code",
   "execution_count": 112,
   "id": "b9207540",
   "metadata": {},
   "outputs": [
    {
     "ename": "KeyError",
     "evalue": "\"['propertyPlantEquipment', 'accumulatedDepreciationAmortizationPPE', 'intangibleAssets', 'intangibleAssetsExcludingGoodwill', 'goodwill', 'investments', 'otherNonCurrentAssets', 'deferredRevenue', 'currentDebt', 'capitalLeaseObligations', 'longTermDebtNoncurrent', 'treasuryStock'] not found in axis\"",
     "output_type": "error",
     "traceback": [
      "\u001b[1;31m---------------------------------------------------------------------------\u001b[0m",
      "\u001b[1;31mKeyError\u001b[0m                                  Traceback (most recent call last)",
      "Cell \u001b[1;32mIn[112], line 1\u001b[0m\n\u001b[1;32m----> 1\u001b[0m income_data \u001b[38;5;241m=\u001b[39m income_data\u001b[38;5;241m.\u001b[39mdrop(columns\u001b[38;5;241m=\u001b[39mall_nan_columns)\n",
      "File \u001b[1;32mc:\\Users\\natal\\anaconda3\\Lib\\site-packages\\pandas\\core\\frame.py:5258\u001b[0m, in \u001b[0;36mDataFrame.drop\u001b[1;34m(self, labels, axis, index, columns, level, inplace, errors)\u001b[0m\n\u001b[0;32m   5110\u001b[0m \u001b[38;5;28;01mdef\u001b[39;00m \u001b[38;5;21mdrop\u001b[39m(\n\u001b[0;32m   5111\u001b[0m     \u001b[38;5;28mself\u001b[39m,\n\u001b[0;32m   5112\u001b[0m     labels: IndexLabel \u001b[38;5;241m=\u001b[39m \u001b[38;5;28;01mNone\u001b[39;00m,\n\u001b[1;32m   (...)\u001b[0m\n\u001b[0;32m   5119\u001b[0m     errors: IgnoreRaise \u001b[38;5;241m=\u001b[39m \u001b[38;5;124m\"\u001b[39m\u001b[38;5;124mraise\u001b[39m\u001b[38;5;124m\"\u001b[39m,\n\u001b[0;32m   5120\u001b[0m ) \u001b[38;5;241m-\u001b[39m\u001b[38;5;241m>\u001b[39m DataFrame \u001b[38;5;241m|\u001b[39m \u001b[38;5;28;01mNone\u001b[39;00m:\n\u001b[0;32m   5121\u001b[0m \u001b[38;5;250m    \u001b[39m\u001b[38;5;124;03m\"\"\"\u001b[39;00m\n\u001b[0;32m   5122\u001b[0m \u001b[38;5;124;03m    Drop specified labels from rows or columns.\u001b[39;00m\n\u001b[0;32m   5123\u001b[0m \n\u001b[1;32m   (...)\u001b[0m\n\u001b[0;32m   5256\u001b[0m \u001b[38;5;124;03m            weight  1.0     0.8\u001b[39;00m\n\u001b[0;32m   5257\u001b[0m \u001b[38;5;124;03m    \"\"\"\u001b[39;00m\n\u001b[1;32m-> 5258\u001b[0m     \u001b[38;5;28;01mreturn\u001b[39;00m \u001b[38;5;28msuper\u001b[39m()\u001b[38;5;241m.\u001b[39mdrop(\n\u001b[0;32m   5259\u001b[0m         labels\u001b[38;5;241m=\u001b[39mlabels,\n\u001b[0;32m   5260\u001b[0m         axis\u001b[38;5;241m=\u001b[39maxis,\n\u001b[0;32m   5261\u001b[0m         index\u001b[38;5;241m=\u001b[39mindex,\n\u001b[0;32m   5262\u001b[0m         columns\u001b[38;5;241m=\u001b[39mcolumns,\n\u001b[0;32m   5263\u001b[0m         level\u001b[38;5;241m=\u001b[39mlevel,\n\u001b[0;32m   5264\u001b[0m         inplace\u001b[38;5;241m=\u001b[39minplace,\n\u001b[0;32m   5265\u001b[0m         errors\u001b[38;5;241m=\u001b[39merrors,\n\u001b[0;32m   5266\u001b[0m     )\n",
      "File \u001b[1;32mc:\\Users\\natal\\anaconda3\\Lib\\site-packages\\pandas\\core\\generic.py:4549\u001b[0m, in \u001b[0;36mNDFrame.drop\u001b[1;34m(self, labels, axis, index, columns, level, inplace, errors)\u001b[0m\n\u001b[0;32m   4547\u001b[0m \u001b[38;5;28;01mfor\u001b[39;00m axis, labels \u001b[38;5;129;01min\u001b[39;00m axes\u001b[38;5;241m.\u001b[39mitems():\n\u001b[0;32m   4548\u001b[0m     \u001b[38;5;28;01mif\u001b[39;00m labels \u001b[38;5;129;01mis\u001b[39;00m \u001b[38;5;129;01mnot\u001b[39;00m \u001b[38;5;28;01mNone\u001b[39;00m:\n\u001b[1;32m-> 4549\u001b[0m         obj \u001b[38;5;241m=\u001b[39m obj\u001b[38;5;241m.\u001b[39m_drop_axis(labels, axis, level\u001b[38;5;241m=\u001b[39mlevel, errors\u001b[38;5;241m=\u001b[39merrors)\n\u001b[0;32m   4551\u001b[0m \u001b[38;5;28;01mif\u001b[39;00m inplace:\n\u001b[0;32m   4552\u001b[0m     \u001b[38;5;28mself\u001b[39m\u001b[38;5;241m.\u001b[39m_update_inplace(obj)\n",
      "File \u001b[1;32mc:\\Users\\natal\\anaconda3\\Lib\\site-packages\\pandas\\core\\generic.py:4591\u001b[0m, in \u001b[0;36mNDFrame._drop_axis\u001b[1;34m(self, labels, axis, level, errors, only_slice)\u001b[0m\n\u001b[0;32m   4589\u001b[0m         new_axis \u001b[38;5;241m=\u001b[39m axis\u001b[38;5;241m.\u001b[39mdrop(labels, level\u001b[38;5;241m=\u001b[39mlevel, errors\u001b[38;5;241m=\u001b[39merrors)\n\u001b[0;32m   4590\u001b[0m     \u001b[38;5;28;01melse\u001b[39;00m:\n\u001b[1;32m-> 4591\u001b[0m         new_axis \u001b[38;5;241m=\u001b[39m axis\u001b[38;5;241m.\u001b[39mdrop(labels, errors\u001b[38;5;241m=\u001b[39merrors)\n\u001b[0;32m   4592\u001b[0m     indexer \u001b[38;5;241m=\u001b[39m axis\u001b[38;5;241m.\u001b[39mget_indexer(new_axis)\n\u001b[0;32m   4594\u001b[0m \u001b[38;5;66;03m# Case for non-unique axis\u001b[39;00m\n\u001b[0;32m   4595\u001b[0m \u001b[38;5;28;01melse\u001b[39;00m:\n",
      "File \u001b[1;32mc:\\Users\\natal\\anaconda3\\Lib\\site-packages\\pandas\\core\\indexes\\base.py:6699\u001b[0m, in \u001b[0;36mIndex.drop\u001b[1;34m(self, labels, errors)\u001b[0m\n\u001b[0;32m   6697\u001b[0m \u001b[38;5;28;01mif\u001b[39;00m mask\u001b[38;5;241m.\u001b[39many():\n\u001b[0;32m   6698\u001b[0m     \u001b[38;5;28;01mif\u001b[39;00m errors \u001b[38;5;241m!=\u001b[39m \u001b[38;5;124m\"\u001b[39m\u001b[38;5;124mignore\u001b[39m\u001b[38;5;124m\"\u001b[39m:\n\u001b[1;32m-> 6699\u001b[0m         \u001b[38;5;28;01mraise\u001b[39;00m \u001b[38;5;167;01mKeyError\u001b[39;00m(\u001b[38;5;124mf\u001b[39m\u001b[38;5;124m\"\u001b[39m\u001b[38;5;132;01m{\u001b[39;00m\u001b[38;5;28mlist\u001b[39m(labels[mask])\u001b[38;5;132;01m}\u001b[39;00m\u001b[38;5;124m not found in axis\u001b[39m\u001b[38;5;124m\"\u001b[39m)\n\u001b[0;32m   6700\u001b[0m     indexer \u001b[38;5;241m=\u001b[39m indexer[\u001b[38;5;241m~\u001b[39mmask]\n\u001b[0;32m   6701\u001b[0m \u001b[38;5;28;01mreturn\u001b[39;00m \u001b[38;5;28mself\u001b[39m\u001b[38;5;241m.\u001b[39mdelete(indexer)\n",
      "\u001b[1;31mKeyError\u001b[0m: \"['propertyPlantEquipment', 'accumulatedDepreciationAmortizationPPE', 'intangibleAssets', 'intangibleAssetsExcludingGoodwill', 'goodwill', 'investments', 'otherNonCurrentAssets', 'deferredRevenue', 'currentDebt', 'capitalLeaseObligations', 'longTermDebtNoncurrent', 'treasuryStock'] not found in axis\""
     ]
    }
   ],
   "source": [
    "income_data = income_data.drop(columns=all_nan_columns)"
   ]
  },
  {
   "cell_type": "code",
   "execution_count": 113,
   "id": "50f87934",
   "metadata": {},
   "outputs": [
    {
     "ename": "KeyError",
     "evalue": "\"['symbol', 'reportedCurrency'] not found in axis\"",
     "output_type": "error",
     "traceback": [
      "\u001b[1;31m---------------------------------------------------------------------------\u001b[0m",
      "\u001b[1;31mKeyError\u001b[0m                                  Traceback (most recent call last)",
      "Cell \u001b[1;32mIn[113], line 1\u001b[0m\n\u001b[1;32m----> 1\u001b[0m balance_data \u001b[38;5;241m=\u001b[39m balance_data\u001b[38;5;241m.\u001b[39mdrop(columns\u001b[38;5;241m=\u001b[39m[\u001b[38;5;124m'\u001b[39m\u001b[38;5;124msymbol\u001b[39m\u001b[38;5;124m'\u001b[39m,\u001b[38;5;124m'\u001b[39m\u001b[38;5;124mreportedCurrency\u001b[39m\u001b[38;5;124m'\u001b[39m])\n",
      "File \u001b[1;32mc:\\Users\\natal\\anaconda3\\Lib\\site-packages\\pandas\\core\\frame.py:5258\u001b[0m, in \u001b[0;36mDataFrame.drop\u001b[1;34m(self, labels, axis, index, columns, level, inplace, errors)\u001b[0m\n\u001b[0;32m   5110\u001b[0m \u001b[38;5;28;01mdef\u001b[39;00m \u001b[38;5;21mdrop\u001b[39m(\n\u001b[0;32m   5111\u001b[0m     \u001b[38;5;28mself\u001b[39m,\n\u001b[0;32m   5112\u001b[0m     labels: IndexLabel \u001b[38;5;241m=\u001b[39m \u001b[38;5;28;01mNone\u001b[39;00m,\n\u001b[1;32m   (...)\u001b[0m\n\u001b[0;32m   5119\u001b[0m     errors: IgnoreRaise \u001b[38;5;241m=\u001b[39m \u001b[38;5;124m\"\u001b[39m\u001b[38;5;124mraise\u001b[39m\u001b[38;5;124m\"\u001b[39m,\n\u001b[0;32m   5120\u001b[0m ) \u001b[38;5;241m-\u001b[39m\u001b[38;5;241m>\u001b[39m DataFrame \u001b[38;5;241m|\u001b[39m \u001b[38;5;28;01mNone\u001b[39;00m:\n\u001b[0;32m   5121\u001b[0m \u001b[38;5;250m    \u001b[39m\u001b[38;5;124;03m\"\"\"\u001b[39;00m\n\u001b[0;32m   5122\u001b[0m \u001b[38;5;124;03m    Drop specified labels from rows or columns.\u001b[39;00m\n\u001b[0;32m   5123\u001b[0m \n\u001b[1;32m   (...)\u001b[0m\n\u001b[0;32m   5256\u001b[0m \u001b[38;5;124;03m            weight  1.0     0.8\u001b[39;00m\n\u001b[0;32m   5257\u001b[0m \u001b[38;5;124;03m    \"\"\"\u001b[39;00m\n\u001b[1;32m-> 5258\u001b[0m     \u001b[38;5;28;01mreturn\u001b[39;00m \u001b[38;5;28msuper\u001b[39m()\u001b[38;5;241m.\u001b[39mdrop(\n\u001b[0;32m   5259\u001b[0m         labels\u001b[38;5;241m=\u001b[39mlabels,\n\u001b[0;32m   5260\u001b[0m         axis\u001b[38;5;241m=\u001b[39maxis,\n\u001b[0;32m   5261\u001b[0m         index\u001b[38;5;241m=\u001b[39mindex,\n\u001b[0;32m   5262\u001b[0m         columns\u001b[38;5;241m=\u001b[39mcolumns,\n\u001b[0;32m   5263\u001b[0m         level\u001b[38;5;241m=\u001b[39mlevel,\n\u001b[0;32m   5264\u001b[0m         inplace\u001b[38;5;241m=\u001b[39minplace,\n\u001b[0;32m   5265\u001b[0m         errors\u001b[38;5;241m=\u001b[39merrors,\n\u001b[0;32m   5266\u001b[0m     )\n",
      "File \u001b[1;32mc:\\Users\\natal\\anaconda3\\Lib\\site-packages\\pandas\\core\\generic.py:4549\u001b[0m, in \u001b[0;36mNDFrame.drop\u001b[1;34m(self, labels, axis, index, columns, level, inplace, errors)\u001b[0m\n\u001b[0;32m   4547\u001b[0m \u001b[38;5;28;01mfor\u001b[39;00m axis, labels \u001b[38;5;129;01min\u001b[39;00m axes\u001b[38;5;241m.\u001b[39mitems():\n\u001b[0;32m   4548\u001b[0m     \u001b[38;5;28;01mif\u001b[39;00m labels \u001b[38;5;129;01mis\u001b[39;00m \u001b[38;5;129;01mnot\u001b[39;00m \u001b[38;5;28;01mNone\u001b[39;00m:\n\u001b[1;32m-> 4549\u001b[0m         obj \u001b[38;5;241m=\u001b[39m obj\u001b[38;5;241m.\u001b[39m_drop_axis(labels, axis, level\u001b[38;5;241m=\u001b[39mlevel, errors\u001b[38;5;241m=\u001b[39merrors)\n\u001b[0;32m   4551\u001b[0m \u001b[38;5;28;01mif\u001b[39;00m inplace:\n\u001b[0;32m   4552\u001b[0m     \u001b[38;5;28mself\u001b[39m\u001b[38;5;241m.\u001b[39m_update_inplace(obj)\n",
      "File \u001b[1;32mc:\\Users\\natal\\anaconda3\\Lib\\site-packages\\pandas\\core\\generic.py:4591\u001b[0m, in \u001b[0;36mNDFrame._drop_axis\u001b[1;34m(self, labels, axis, level, errors, only_slice)\u001b[0m\n\u001b[0;32m   4589\u001b[0m         new_axis \u001b[38;5;241m=\u001b[39m axis\u001b[38;5;241m.\u001b[39mdrop(labels, level\u001b[38;5;241m=\u001b[39mlevel, errors\u001b[38;5;241m=\u001b[39merrors)\n\u001b[0;32m   4590\u001b[0m     \u001b[38;5;28;01melse\u001b[39;00m:\n\u001b[1;32m-> 4591\u001b[0m         new_axis \u001b[38;5;241m=\u001b[39m axis\u001b[38;5;241m.\u001b[39mdrop(labels, errors\u001b[38;5;241m=\u001b[39merrors)\n\u001b[0;32m   4592\u001b[0m     indexer \u001b[38;5;241m=\u001b[39m axis\u001b[38;5;241m.\u001b[39mget_indexer(new_axis)\n\u001b[0;32m   4594\u001b[0m \u001b[38;5;66;03m# Case for non-unique axis\u001b[39;00m\n\u001b[0;32m   4595\u001b[0m \u001b[38;5;28;01melse\u001b[39;00m:\n",
      "File \u001b[1;32mc:\\Users\\natal\\anaconda3\\Lib\\site-packages\\pandas\\core\\indexes\\base.py:6699\u001b[0m, in \u001b[0;36mIndex.drop\u001b[1;34m(self, labels, errors)\u001b[0m\n\u001b[0;32m   6697\u001b[0m \u001b[38;5;28;01mif\u001b[39;00m mask\u001b[38;5;241m.\u001b[39many():\n\u001b[0;32m   6698\u001b[0m     \u001b[38;5;28;01mif\u001b[39;00m errors \u001b[38;5;241m!=\u001b[39m \u001b[38;5;124m\"\u001b[39m\u001b[38;5;124mignore\u001b[39m\u001b[38;5;124m\"\u001b[39m:\n\u001b[1;32m-> 6699\u001b[0m         \u001b[38;5;28;01mraise\u001b[39;00m \u001b[38;5;167;01mKeyError\u001b[39;00m(\u001b[38;5;124mf\u001b[39m\u001b[38;5;124m\"\u001b[39m\u001b[38;5;132;01m{\u001b[39;00m\u001b[38;5;28mlist\u001b[39m(labels[mask])\u001b[38;5;132;01m}\u001b[39;00m\u001b[38;5;124m not found in axis\u001b[39m\u001b[38;5;124m\"\u001b[39m)\n\u001b[0;32m   6700\u001b[0m     indexer \u001b[38;5;241m=\u001b[39m indexer[\u001b[38;5;241m~\u001b[39mmask]\n\u001b[0;32m   6701\u001b[0m \u001b[38;5;28;01mreturn\u001b[39;00m \u001b[38;5;28mself\u001b[39m\u001b[38;5;241m.\u001b[39mdelete(indexer)\n",
      "\u001b[1;31mKeyError\u001b[0m: \"['symbol', 'reportedCurrency'] not found in axis\""
     ]
    }
   ],
   "source": [
    "balance_data = balance_data.drop(columns=['symbol','reportedCurrency'])"
   ]
  },
  {
   "cell_type": "code",
   "execution_count": 114,
   "id": "4b5ead22",
   "metadata": {},
   "outputs": [],
   "source": [
    "all_nan_columns = balance_data.columns[balance_data.isna().all()].tolist()"
   ]
  },
  {
   "cell_type": "code",
   "execution_count": 115,
   "id": "2c3c0417",
   "metadata": {},
   "outputs": [],
   "source": [
    "balance_data = balance_data.drop(columns=all_nan_columns)"
   ]
  },
  {
   "cell_type": "code",
   "execution_count": 116,
   "id": "638d1b8b",
   "metadata": {},
   "outputs": [],
   "source": [
    "cash_flow_data = cash_flow_data[['fiscalDateEnding','operatingCashflow']]"
   ]
  },
  {
   "cell_type": "code",
   "execution_count": 117,
   "id": "834305a1",
   "metadata": {},
   "outputs": [],
   "source": [
    "earnings_data = earnings_data[['fiscalDateEnding','reportedEPS']]"
   ]
  },
  {
   "cell_type": "code",
   "execution_count": 118,
   "id": "bc12f52a",
   "metadata": {},
   "outputs": [],
   "source": [
    "merged_earnings_df = reduce(lambda left, right: pd.merge(left, right, on='fiscalDateEnding'), [income_data, balance_data, cash_flow_data, earnings_data])"
   ]
  },
  {
   "cell_type": "code",
   "execution_count": 119,
   "id": "a9d79ee2",
   "metadata": {},
   "outputs": [],
   "source": [
    "merged_earnings_df = merged_earnings_df.sort_values(by='fiscalDateEnding')"
   ]
  },
  {
   "cell_type": "markdown",
   "id": "42462e3b",
   "metadata": {},
   "source": [
    "### Combining dfs"
   ]
  },
  {
   "cell_type": "code",
   "execution_count": 159,
   "id": "93641eed",
   "metadata": {},
   "outputs": [],
   "source": [
    "all_dates = pd.date_range(start=start_date, end=end_date, freq='D')\n"
   ]
  },
  {
   "cell_type": "code",
   "execution_count": 160,
   "id": "1490bba0",
   "metadata": {},
   "outputs": [],
   "source": [
    "df_dates = pd.DataFrame(all_dates,columns=['all_date'])"
   ]
  },
  {
   "cell_type": "code",
   "execution_count": 161,
   "id": "643ec9e8",
   "metadata": {},
   "outputs": [],
   "source": [
    "df = df_dates.merge(price_data[['Date','Close']], left_on='all_date',right_on='Date', how='left')"
   ]
  },
  {
   "cell_type": "code",
   "execution_count": 162,
   "id": "25ba1f54",
   "metadata": {},
   "outputs": [],
   "source": [
    "df = df.merge(merged_earnings_df, left_on='all_date', right_on='fiscalDateEnding', how='left')"
   ]
  },
  {
   "cell_type": "code",
   "execution_count": 163,
   "id": "a5cca965",
   "metadata": {},
   "outputs": [],
   "source": [
    "df[merged_earnings_df.columns] = df[merged_earnings_df.columns].fillna(method='ffill')"
   ]
  },
  {
   "cell_type": "code",
   "execution_count": 164,
   "id": "0d0513ba",
   "metadata": {},
   "outputs": [],
   "source": [
    "df = df.merge(sentiment_data[['date','sentiment_score']], left_on='all_date', right_on='date', how='left')"
   ]
  },
  {
   "cell_type": "code",
   "execution_count": 165,
   "id": "1c110461",
   "metadata": {},
   "outputs": [],
   "source": [
    "df['sentiment_score'] = df['sentiment_score'].fillna(0)"
   ]
  },
  {
   "cell_type": "code",
   "execution_count": 166,
   "id": "90b538dc",
   "metadata": {},
   "outputs": [
    {
     "ename": "KeyError",
     "evalue": "\"['ticker', 'company_name'] not found in axis\"",
     "output_type": "error",
     "traceback": [
      "\u001b[1;31m---------------------------------------------------------------------------\u001b[0m",
      "\u001b[1;31mKeyError\u001b[0m                                  Traceback (most recent call last)",
      "Cell \u001b[1;32mIn[166], line 1\u001b[0m\n\u001b[1;32m----> 1\u001b[0m technical_data \u001b[38;5;241m=\u001b[39m technical_data\u001b[38;5;241m.\u001b[39mdrop(columns\u001b[38;5;241m=\u001b[39m[\u001b[38;5;124m'\u001b[39m\u001b[38;5;124mticker\u001b[39m\u001b[38;5;124m'\u001b[39m,\u001b[38;5;124m'\u001b[39m\u001b[38;5;124mcompany_name\u001b[39m\u001b[38;5;124m'\u001b[39m])\n",
      "File \u001b[1;32mc:\\Users\\natal\\anaconda3\\Lib\\site-packages\\pandas\\core\\frame.py:5258\u001b[0m, in \u001b[0;36mDataFrame.drop\u001b[1;34m(self, labels, axis, index, columns, level, inplace, errors)\u001b[0m\n\u001b[0;32m   5110\u001b[0m \u001b[38;5;28;01mdef\u001b[39;00m \u001b[38;5;21mdrop\u001b[39m(\n\u001b[0;32m   5111\u001b[0m     \u001b[38;5;28mself\u001b[39m,\n\u001b[0;32m   5112\u001b[0m     labels: IndexLabel \u001b[38;5;241m=\u001b[39m \u001b[38;5;28;01mNone\u001b[39;00m,\n\u001b[1;32m   (...)\u001b[0m\n\u001b[0;32m   5119\u001b[0m     errors: IgnoreRaise \u001b[38;5;241m=\u001b[39m \u001b[38;5;124m\"\u001b[39m\u001b[38;5;124mraise\u001b[39m\u001b[38;5;124m\"\u001b[39m,\n\u001b[0;32m   5120\u001b[0m ) \u001b[38;5;241m-\u001b[39m\u001b[38;5;241m>\u001b[39m DataFrame \u001b[38;5;241m|\u001b[39m \u001b[38;5;28;01mNone\u001b[39;00m:\n\u001b[0;32m   5121\u001b[0m \u001b[38;5;250m    \u001b[39m\u001b[38;5;124;03m\"\"\"\u001b[39;00m\n\u001b[0;32m   5122\u001b[0m \u001b[38;5;124;03m    Drop specified labels from rows or columns.\u001b[39;00m\n\u001b[0;32m   5123\u001b[0m \n\u001b[1;32m   (...)\u001b[0m\n\u001b[0;32m   5256\u001b[0m \u001b[38;5;124;03m            weight  1.0     0.8\u001b[39;00m\n\u001b[0;32m   5257\u001b[0m \u001b[38;5;124;03m    \"\"\"\u001b[39;00m\n\u001b[1;32m-> 5258\u001b[0m     \u001b[38;5;28;01mreturn\u001b[39;00m \u001b[38;5;28msuper\u001b[39m()\u001b[38;5;241m.\u001b[39mdrop(\n\u001b[0;32m   5259\u001b[0m         labels\u001b[38;5;241m=\u001b[39mlabels,\n\u001b[0;32m   5260\u001b[0m         axis\u001b[38;5;241m=\u001b[39maxis,\n\u001b[0;32m   5261\u001b[0m         index\u001b[38;5;241m=\u001b[39mindex,\n\u001b[0;32m   5262\u001b[0m         columns\u001b[38;5;241m=\u001b[39mcolumns,\n\u001b[0;32m   5263\u001b[0m         level\u001b[38;5;241m=\u001b[39mlevel,\n\u001b[0;32m   5264\u001b[0m         inplace\u001b[38;5;241m=\u001b[39minplace,\n\u001b[0;32m   5265\u001b[0m         errors\u001b[38;5;241m=\u001b[39merrors,\n\u001b[0;32m   5266\u001b[0m     )\n",
      "File \u001b[1;32mc:\\Users\\natal\\anaconda3\\Lib\\site-packages\\pandas\\core\\generic.py:4549\u001b[0m, in \u001b[0;36mNDFrame.drop\u001b[1;34m(self, labels, axis, index, columns, level, inplace, errors)\u001b[0m\n\u001b[0;32m   4547\u001b[0m \u001b[38;5;28;01mfor\u001b[39;00m axis, labels \u001b[38;5;129;01min\u001b[39;00m axes\u001b[38;5;241m.\u001b[39mitems():\n\u001b[0;32m   4548\u001b[0m     \u001b[38;5;28;01mif\u001b[39;00m labels \u001b[38;5;129;01mis\u001b[39;00m \u001b[38;5;129;01mnot\u001b[39;00m \u001b[38;5;28;01mNone\u001b[39;00m:\n\u001b[1;32m-> 4549\u001b[0m         obj \u001b[38;5;241m=\u001b[39m obj\u001b[38;5;241m.\u001b[39m_drop_axis(labels, axis, level\u001b[38;5;241m=\u001b[39mlevel, errors\u001b[38;5;241m=\u001b[39merrors)\n\u001b[0;32m   4551\u001b[0m \u001b[38;5;28;01mif\u001b[39;00m inplace:\n\u001b[0;32m   4552\u001b[0m     \u001b[38;5;28mself\u001b[39m\u001b[38;5;241m.\u001b[39m_update_inplace(obj)\n",
      "File \u001b[1;32mc:\\Users\\natal\\anaconda3\\Lib\\site-packages\\pandas\\core\\generic.py:4591\u001b[0m, in \u001b[0;36mNDFrame._drop_axis\u001b[1;34m(self, labels, axis, level, errors, only_slice)\u001b[0m\n\u001b[0;32m   4589\u001b[0m         new_axis \u001b[38;5;241m=\u001b[39m axis\u001b[38;5;241m.\u001b[39mdrop(labels, level\u001b[38;5;241m=\u001b[39mlevel, errors\u001b[38;5;241m=\u001b[39merrors)\n\u001b[0;32m   4590\u001b[0m     \u001b[38;5;28;01melse\u001b[39;00m:\n\u001b[1;32m-> 4591\u001b[0m         new_axis \u001b[38;5;241m=\u001b[39m axis\u001b[38;5;241m.\u001b[39mdrop(labels, errors\u001b[38;5;241m=\u001b[39merrors)\n\u001b[0;32m   4592\u001b[0m     indexer \u001b[38;5;241m=\u001b[39m axis\u001b[38;5;241m.\u001b[39mget_indexer(new_axis)\n\u001b[0;32m   4594\u001b[0m \u001b[38;5;66;03m# Case for non-unique axis\u001b[39;00m\n\u001b[0;32m   4595\u001b[0m \u001b[38;5;28;01melse\u001b[39;00m:\n",
      "File \u001b[1;32mc:\\Users\\natal\\anaconda3\\Lib\\site-packages\\pandas\\core\\indexes\\base.py:6699\u001b[0m, in \u001b[0;36mIndex.drop\u001b[1;34m(self, labels, errors)\u001b[0m\n\u001b[0;32m   6697\u001b[0m \u001b[38;5;28;01mif\u001b[39;00m mask\u001b[38;5;241m.\u001b[39many():\n\u001b[0;32m   6698\u001b[0m     \u001b[38;5;28;01mif\u001b[39;00m errors \u001b[38;5;241m!=\u001b[39m \u001b[38;5;124m\"\u001b[39m\u001b[38;5;124mignore\u001b[39m\u001b[38;5;124m\"\u001b[39m:\n\u001b[1;32m-> 6699\u001b[0m         \u001b[38;5;28;01mraise\u001b[39;00m \u001b[38;5;167;01mKeyError\u001b[39;00m(\u001b[38;5;124mf\u001b[39m\u001b[38;5;124m\"\u001b[39m\u001b[38;5;132;01m{\u001b[39;00m\u001b[38;5;28mlist\u001b[39m(labels[mask])\u001b[38;5;132;01m}\u001b[39;00m\u001b[38;5;124m not found in axis\u001b[39m\u001b[38;5;124m\"\u001b[39m)\n\u001b[0;32m   6700\u001b[0m     indexer \u001b[38;5;241m=\u001b[39m indexer[\u001b[38;5;241m~\u001b[39mmask]\n\u001b[0;32m   6701\u001b[0m \u001b[38;5;28;01mreturn\u001b[39;00m \u001b[38;5;28mself\u001b[39m\u001b[38;5;241m.\u001b[39mdelete(indexer)\n",
      "\u001b[1;31mKeyError\u001b[0m: \"['ticker', 'company_name'] not found in axis\""
     ]
    }
   ],
   "source": [
    "technical_data = technical_data.drop(columns=['ticker','company_name'])"
   ]
  },
  {
   "cell_type": "code",
   "execution_count": 167,
   "id": "f5ea3c91",
   "metadata": {},
   "outputs": [],
   "source": [
    "df = df.merge(technical_data, left_on='all_date', right_on='date', how='left')"
   ]
  },
  {
   "cell_type": "code",
   "execution_count": 168,
   "id": "c11552a2",
   "metadata": {},
   "outputs": [],
   "source": [
    "df = df.merge(competitors_data, left_on='all_date', right_on='Date', how='left')"
   ]
  },
  {
   "cell_type": "code",
   "execution_count": 169,
   "id": "37f5af58",
   "metadata": {},
   "outputs": [],
   "source": [
    "df = df.merge(SP500_data, left_on='all_date', right_on='Date', how='left')"
   ]
  },
  {
   "cell_type": "code",
   "execution_count": 170,
   "id": "f013b342",
   "metadata": {},
   "outputs": [],
   "source": [
    "# df = df.merge(competitors_sentiment, left_on='all_date', right_on='date', how='left')"
   ]
  },
  {
   "cell_type": "code",
   "execution_count": 171,
   "id": "ca1900db",
   "metadata": {},
   "outputs": [],
   "source": [
    "# df[['MSFT_sentiment','META_sentiment','AMZN_sentiment']] = df[['MSFT_sentiment','META_sentiment','AMZN_sentiment']].fillna(0)"
   ]
  },
  {
   "cell_type": "code",
   "execution_count": 172,
   "id": "b7d0557e",
   "metadata": {},
   "outputs": [],
   "source": [
    "df = df[(df['all_date']>= earliest_date) & (df['all_date'] < latest_date)]"
   ]
  },
  {
   "cell_type": "code",
   "execution_count": 173,
   "id": "a4faf4a9",
   "metadata": {},
   "outputs": [],
   "source": [
    "df = df[~(df['Close'].isna())]"
   ]
  },
  {
   "cell_type": "code",
   "execution_count": 174,
   "id": "a50e0abf",
   "metadata": {},
   "outputs": [],
   "source": [
    "df = df.drop(columns=['all_date','Date_x','Date_y','fiscalDateEnding','date_x','date_y','Date'])"
   ]
  },
  {
   "cell_type": "code",
   "execution_count": 175,
   "id": "fe12afab",
   "metadata": {},
   "outputs": [
    {
     "data": {
      "text/html": [
       "<div>\n",
       "<style scoped>\n",
       "    .dataframe tbody tr th:only-of-type {\n",
       "        vertical-align: middle;\n",
       "    }\n",
       "\n",
       "    .dataframe tbody tr th {\n",
       "        vertical-align: top;\n",
       "    }\n",
       "\n",
       "    .dataframe thead th {\n",
       "        text-align: right;\n",
       "    }\n",
       "</style>\n",
       "<table border=\"1\" class=\"dataframe\">\n",
       "  <thead>\n",
       "    <tr style=\"text-align: right;\">\n",
       "      <th></th>\n",
       "      <th>Close</th>\n",
       "      <th>grossProfit</th>\n",
       "      <th>totalRevenue</th>\n",
       "      <th>costOfRevenue</th>\n",
       "      <th>costofGoodsAndServicesSold</th>\n",
       "      <th>operatingIncome</th>\n",
       "      <th>sellingGeneralAndAdministrative</th>\n",
       "      <th>researchAndDevelopment</th>\n",
       "      <th>operatingExpenses</th>\n",
       "      <th>interestExpense</th>\n",
       "      <th>...</th>\n",
       "      <th>Real Middle Band_100</th>\n",
       "      <th>Real Lower Band_100</th>\n",
       "      <th>Real Upper Band_200</th>\n",
       "      <th>Real Middle Band_200</th>\n",
       "      <th>Real Lower Band_200</th>\n",
       "      <th>AMZN</th>\n",
       "      <th>GOOGL</th>\n",
       "      <th>META</th>\n",
       "      <th>MSFT</th>\n",
       "      <th>SP500_Close</th>\n",
       "    </tr>\n",
       "  </thead>\n",
       "  <tbody>\n",
       "    <tr>\n",
       "      <th>4</th>\n",
       "      <td>185.64</td>\n",
       "      <td>5.485500e+10</td>\n",
       "      <td>1.195750e+11</td>\n",
       "      <td>6.472000e+10</td>\n",
       "      <td>6.472000e+10</td>\n",
       "      <td>4.037300e+10</td>\n",
       "      <td>6.786000e+09</td>\n",
       "      <td>7.696000e+09</td>\n",
       "      <td>1.453200e+10</td>\n",
       "      <td>1.002000e+09</td>\n",
       "      <td>...</td>\n",
       "      <td>180.7884</td>\n",
       "      <td>164.0538</td>\n",
       "      <td>199.2234</td>\n",
       "      <td>177.9953</td>\n",
       "      <td>156.7673</td>\n",
       "      <td>-0.013229</td>\n",
       "      <td>-0.010881</td>\n",
       "      <td>-0.021669</td>\n",
       "      <td>-0.013749</td>\n",
       "      <td>472.65</td>\n",
       "    </tr>\n",
       "    <tr>\n",
       "      <th>5</th>\n",
       "      <td>184.25</td>\n",
       "      <td>5.485500e+10</td>\n",
       "      <td>1.195750e+11</td>\n",
       "      <td>6.472000e+10</td>\n",
       "      <td>6.472000e+10</td>\n",
       "      <td>4.037300e+10</td>\n",
       "      <td>6.786000e+09</td>\n",
       "      <td>7.696000e+09</td>\n",
       "      <td>1.453200e+10</td>\n",
       "      <td>1.002000e+09</td>\n",
       "      <td>...</td>\n",
       "      <td>180.8554</td>\n",
       "      <td>164.1407</td>\n",
       "      <td>199.0912</td>\n",
       "      <td>178.1436</td>\n",
       "      <td>157.1961</td>\n",
       "      <td>-0.009738</td>\n",
       "      <td>0.005428</td>\n",
       "      <td>-0.005256</td>\n",
       "      <td>-0.000728</td>\n",
       "      <td>468.79</td>\n",
       "    </tr>\n",
       "    <tr>\n",
       "      <th>6</th>\n",
       "      <td>181.91</td>\n",
       "      <td>5.485500e+10</td>\n",
       "      <td>1.195750e+11</td>\n",
       "      <td>6.472000e+10</td>\n",
       "      <td>6.472000e+10</td>\n",
       "      <td>4.037300e+10</td>\n",
       "      <td>6.786000e+09</td>\n",
       "      <td>7.696000e+09</td>\n",
       "      <td>1.453200e+10</td>\n",
       "      <td>1.002000e+09</td>\n",
       "      <td>...</td>\n",
       "      <td>180.8986</td>\n",
       "      <td>164.2091</td>\n",
       "      <td>198.9742</td>\n",
       "      <td>178.2684</td>\n",
       "      <td>157.5626</td>\n",
       "      <td>-0.026268</td>\n",
       "      <td>-0.018212</td>\n",
       "      <td>0.007693</td>\n",
       "      <td>-0.007178</td>\n",
       "      <td>467.28</td>\n",
       "    </tr>\n",
       "    <tr>\n",
       "      <th>7</th>\n",
       "      <td>181.18</td>\n",
       "      <td>5.485500e+10</td>\n",
       "      <td>1.195750e+11</td>\n",
       "      <td>6.472000e+10</td>\n",
       "      <td>6.472000e+10</td>\n",
       "      <td>4.037300e+10</td>\n",
       "      <td>6.786000e+09</td>\n",
       "      <td>7.696000e+09</td>\n",
       "      <td>1.453200e+10</td>\n",
       "      <td>1.002000e+09</td>\n",
       "      <td>...</td>\n",
       "      <td>180.9180</td>\n",
       "      <td>164.2377</td>\n",
       "      <td>198.8768</td>\n",
       "      <td>178.3803</td>\n",
       "      <td>157.8838</td>\n",
       "      <td>0.004634</td>\n",
       "      <td>-0.004839</td>\n",
       "      <td>0.013914</td>\n",
       "      <td>-0.000516</td>\n",
       "      <td>467.92</td>\n",
       "    </tr>\n",
       "    <tr>\n",
       "      <th>10</th>\n",
       "      <td>185.56</td>\n",
       "      <td>5.485500e+10</td>\n",
       "      <td>1.195750e+11</td>\n",
       "      <td>6.472000e+10</td>\n",
       "      <td>6.472000e+10</td>\n",
       "      <td>4.037300e+10</td>\n",
       "      <td>6.786000e+09</td>\n",
       "      <td>7.696000e+09</td>\n",
       "      <td>1.453200e+10</td>\n",
       "      <td>1.002000e+09</td>\n",
       "      <td>...</td>\n",
       "      <td>181.0008</td>\n",
       "      <td>164.3378</td>\n",
       "      <td>198.7881</td>\n",
       "      <td>178.5211</td>\n",
       "      <td>158.2541</td>\n",
       "      <td>0.026577</td>\n",
       "      <td>0.022913</td>\n",
       "      <td>0.019065</td>\n",
       "      <td>0.018872</td>\n",
       "      <td>474.60</td>\n",
       "    </tr>\n",
       "    <tr>\n",
       "      <th>...</th>\n",
       "      <td>...</td>\n",
       "      <td>...</td>\n",
       "      <td>...</td>\n",
       "      <td>...</td>\n",
       "      <td>...</td>\n",
       "      <td>...</td>\n",
       "      <td>...</td>\n",
       "      <td>...</td>\n",
       "      <td>...</td>\n",
       "      <td>...</td>\n",
       "      <td>...</td>\n",
       "      <td>...</td>\n",
       "      <td>...</td>\n",
       "      <td>...</td>\n",
       "      <td>...</td>\n",
       "      <td>...</td>\n",
       "      <td>...</td>\n",
       "      <td>...</td>\n",
       "      <td>...</td>\n",
       "      <td>...</td>\n",
       "      <td>...</td>\n",
       "    </tr>\n",
       "    <tr>\n",
       "      <th>542</th>\n",
       "      <td>201.50</td>\n",
       "      <td>4.486700e+10</td>\n",
       "      <td>9.535900e+10</td>\n",
       "      <td>5.049200e+10</td>\n",
       "      <td>5.049200e+10</td>\n",
       "      <td>2.958900e+10</td>\n",
       "      <td>6.728000e+09</td>\n",
       "      <td>8.550000e+09</td>\n",
       "      <td>1.527800e+10</td>\n",
       "      <td>1.002000e+09</td>\n",
       "      <td>...</td>\n",
       "      <td>214.1204</td>\n",
       "      <td>179.9170</td>\n",
       "      <td>257.0084</td>\n",
       "      <td>223.3027</td>\n",
       "      <td>189.5969</td>\n",
       "      <td>-0.005818</td>\n",
       "      <td>-0.008701</td>\n",
       "      <td>0.023712</td>\n",
       "      <td>0.018014</td>\n",
       "      <td>600.15</td>\n",
       "    </tr>\n",
       "    <tr>\n",
       "      <th>543</th>\n",
       "      <td>200.30</td>\n",
       "      <td>4.486700e+10</td>\n",
       "      <td>9.535900e+10</td>\n",
       "      <td>5.049200e+10</td>\n",
       "      <td>5.049200e+10</td>\n",
       "      <td>2.958900e+10</td>\n",
       "      <td>6.728000e+09</td>\n",
       "      <td>8.550000e+09</td>\n",
       "      <td>1.527800e+10</td>\n",
       "      <td>1.002000e+09</td>\n",
       "      <td>...</td>\n",
       "      <td>213.7354</td>\n",
       "      <td>179.7861</td>\n",
       "      <td>257.0625</td>\n",
       "      <td>223.2037</td>\n",
       "      <td>189.3449</td>\n",
       "      <td>0.020626</td>\n",
       "      <td>0.009565</td>\n",
       "      <td>0.019570</td>\n",
       "      <td>0.008457</td>\n",
       "      <td>606.78</td>\n",
       "    </tr>\n",
       "    <tr>\n",
       "      <th>544</th>\n",
       "      <td>201.56</td>\n",
       "      <td>4.486700e+10</td>\n",
       "      <td>9.535900e+10</td>\n",
       "      <td>5.049200e+10</td>\n",
       "      <td>5.049200e+10</td>\n",
       "      <td>2.958900e+10</td>\n",
       "      <td>6.728000e+09</td>\n",
       "      <td>8.550000e+09</td>\n",
       "      <td>1.527800e+10</td>\n",
       "      <td>1.002000e+09</td>\n",
       "      <td>...</td>\n",
       "      <td>213.3806</td>\n",
       "      <td>179.6721</td>\n",
       "      <td>257.0989</td>\n",
       "      <td>223.1034</td>\n",
       "      <td>189.1079</td>\n",
       "      <td>-0.003666</td>\n",
       "      <td>0.023445</td>\n",
       "      <td>-0.004942</td>\n",
       "      <td>0.004407</td>\n",
       "      <td>607.12</td>\n",
       "    </tr>\n",
       "    <tr>\n",
       "      <th>545</th>\n",
       "      <td>201.00</td>\n",
       "      <td>4.486700e+10</td>\n",
       "      <td>9.535900e+10</td>\n",
       "      <td>5.049200e+10</td>\n",
       "      <td>5.049200e+10</td>\n",
       "      <td>2.958900e+10</td>\n",
       "      <td>6.728000e+09</td>\n",
       "      <td>8.550000e+09</td>\n",
       "      <td>1.527800e+10</td>\n",
       "      <td>1.002000e+09</td>\n",
       "      <td>...</td>\n",
       "      <td>213.0361</td>\n",
       "      <td>179.5334</td>\n",
       "      <td>257.1438</td>\n",
       "      <td>223.0081</td>\n",
       "      <td>188.8724</td>\n",
       "      <td>0.024199</td>\n",
       "      <td>0.016757</td>\n",
       "      <td>0.024567</td>\n",
       "      <td>0.010523</td>\n",
       "      <td>611.87</td>\n",
       "    </tr>\n",
       "    <tr>\n",
       "      <th>546</th>\n",
       "      <td>201.08</td>\n",
       "      <td>4.486700e+10</td>\n",
       "      <td>9.535900e+10</td>\n",
       "      <td>5.049200e+10</td>\n",
       "      <td>5.049200e+10</td>\n",
       "      <td>2.958900e+10</td>\n",
       "      <td>6.728000e+09</td>\n",
       "      <td>8.550000e+09</td>\n",
       "      <td>1.527800e+10</td>\n",
       "      <td>1.002000e+09</td>\n",
       "      <td>...</td>\n",
       "      <td>212.7721</td>\n",
       "      <td>179.3127</td>\n",
       "      <td>257.1861</td>\n",
       "      <td>222.9127</td>\n",
       "      <td>188.6394</td>\n",
       "      <td>0.028464</td>\n",
       "      <td>0.028754</td>\n",
       "      <td>0.010384</td>\n",
       "      <td>-0.003035</td>\n",
       "      <td>614.91</td>\n",
       "    </tr>\n",
       "  </tbody>\n",
       "</table>\n",
       "<p>373 rows × 110 columns</p>\n",
       "</div>"
      ],
      "text/plain": [
       "      Close   grossProfit  totalRevenue  costOfRevenue  \\\n",
       "4    185.64  5.485500e+10  1.195750e+11   6.472000e+10   \n",
       "5    184.25  5.485500e+10  1.195750e+11   6.472000e+10   \n",
       "6    181.91  5.485500e+10  1.195750e+11   6.472000e+10   \n",
       "7    181.18  5.485500e+10  1.195750e+11   6.472000e+10   \n",
       "10   185.56  5.485500e+10  1.195750e+11   6.472000e+10   \n",
       "..      ...           ...           ...            ...   \n",
       "542  201.50  4.486700e+10  9.535900e+10   5.049200e+10   \n",
       "543  200.30  4.486700e+10  9.535900e+10   5.049200e+10   \n",
       "544  201.56  4.486700e+10  9.535900e+10   5.049200e+10   \n",
       "545  201.00  4.486700e+10  9.535900e+10   5.049200e+10   \n",
       "546  201.08  4.486700e+10  9.535900e+10   5.049200e+10   \n",
       "\n",
       "     costofGoodsAndServicesSold  operatingIncome  \\\n",
       "4                  6.472000e+10     4.037300e+10   \n",
       "5                  6.472000e+10     4.037300e+10   \n",
       "6                  6.472000e+10     4.037300e+10   \n",
       "7                  6.472000e+10     4.037300e+10   \n",
       "10                 6.472000e+10     4.037300e+10   \n",
       "..                          ...              ...   \n",
       "542                5.049200e+10     2.958900e+10   \n",
       "543                5.049200e+10     2.958900e+10   \n",
       "544                5.049200e+10     2.958900e+10   \n",
       "545                5.049200e+10     2.958900e+10   \n",
       "546                5.049200e+10     2.958900e+10   \n",
       "\n",
       "     sellingGeneralAndAdministrative  researchAndDevelopment  \\\n",
       "4                       6.786000e+09            7.696000e+09   \n",
       "5                       6.786000e+09            7.696000e+09   \n",
       "6                       6.786000e+09            7.696000e+09   \n",
       "7                       6.786000e+09            7.696000e+09   \n",
       "10                      6.786000e+09            7.696000e+09   \n",
       "..                               ...                     ...   \n",
       "542                     6.728000e+09            8.550000e+09   \n",
       "543                     6.728000e+09            8.550000e+09   \n",
       "544                     6.728000e+09            8.550000e+09   \n",
       "545                     6.728000e+09            8.550000e+09   \n",
       "546                     6.728000e+09            8.550000e+09   \n",
       "\n",
       "     operatingExpenses  interestExpense  ...  Real Middle Band_100  \\\n",
       "4         1.453200e+10     1.002000e+09  ...              180.7884   \n",
       "5         1.453200e+10     1.002000e+09  ...              180.8554   \n",
       "6         1.453200e+10     1.002000e+09  ...              180.8986   \n",
       "7         1.453200e+10     1.002000e+09  ...              180.9180   \n",
       "10        1.453200e+10     1.002000e+09  ...              181.0008   \n",
       "..                 ...              ...  ...                   ...   \n",
       "542       1.527800e+10     1.002000e+09  ...              214.1204   \n",
       "543       1.527800e+10     1.002000e+09  ...              213.7354   \n",
       "544       1.527800e+10     1.002000e+09  ...              213.3806   \n",
       "545       1.527800e+10     1.002000e+09  ...              213.0361   \n",
       "546       1.527800e+10     1.002000e+09  ...              212.7721   \n",
       "\n",
       "     Real Lower Band_100  Real Upper Band_200  Real Middle Band_200  \\\n",
       "4               164.0538             199.2234              177.9953   \n",
       "5               164.1407             199.0912              178.1436   \n",
       "6               164.2091             198.9742              178.2684   \n",
       "7               164.2377             198.8768              178.3803   \n",
       "10              164.3378             198.7881              178.5211   \n",
       "..                   ...                  ...                   ...   \n",
       "542             179.9170             257.0084              223.3027   \n",
       "543             179.7861             257.0625              223.2037   \n",
       "544             179.6721             257.0989              223.1034   \n",
       "545             179.5334             257.1438              223.0081   \n",
       "546             179.3127             257.1861              222.9127   \n",
       "\n",
       "     Real Lower Band_200      AMZN     GOOGL      META      MSFT  SP500_Close  \n",
       "4               156.7673 -0.013229 -0.010881 -0.021669 -0.013749       472.65  \n",
       "5               157.1961 -0.009738  0.005428 -0.005256 -0.000728       468.79  \n",
       "6               157.5626 -0.026268 -0.018212  0.007693 -0.007178       467.28  \n",
       "7               157.8838  0.004634 -0.004839  0.013914 -0.000516       467.92  \n",
       "10              158.2541  0.026577  0.022913  0.019065  0.018872       474.60  \n",
       "..                   ...       ...       ...       ...       ...          ...  \n",
       "542             189.5969 -0.005818 -0.008701  0.023712  0.018014       600.15  \n",
       "543             189.3449  0.020626  0.009565  0.019570  0.008457       606.78  \n",
       "544             189.1079 -0.003666  0.023445 -0.004942  0.004407       607.12  \n",
       "545             188.8724  0.024199  0.016757  0.024567  0.010523       611.87  \n",
       "546             188.6394  0.028464  0.028754  0.010384 -0.003035       614.91  \n",
       "\n",
       "[373 rows x 110 columns]"
      ]
     },
     "execution_count": 175,
     "metadata": {},
     "output_type": "execute_result"
    }
   ],
   "source": [
    "df"
   ]
  },
  {
   "cell_type": "code",
   "execution_count": 176,
   "id": "2b11ecd8",
   "metadata": {},
   "outputs": [],
   "source": [
    "df['Return'] = df['Close'].pct_change().fillna(0)"
   ]
  },
  {
   "cell_type": "code",
   "execution_count": 177,
   "id": "e38fa2c7",
   "metadata": {},
   "outputs": [],
   "source": [
    "lags = [1, 2, 3, 5, 10, 20]\n",
    "for lag in lags:\n",
    "    df[f'return_lag{lag}'] = df['Return'].shift(lag)\n",
    "    df[f'sentiment_lag{lag}'] = df['sentiment_score'].shift(lag)\n",
    "    df[f'MSFT_lag{lag}'] = df['MSFT'].shift(lag)\n",
    "    df[f'GOOGL_lag{lag}'] = df['GOOGL'].shift(lag)\n",
    "    df[f'AMZN_lag{lag}'] = df['AMZN'].shift(lag)    \n",
    "    df[f'META_lag{lag}'] = df['META'].shift(lag)\n",
    "    df[f'SP500_lag{lag}'] = df['SP500_Close'].shift(lag)\n",
    "    # df[f'MSFT_sentiment_lag{lag}'] = df['MSFT_sentiment'].shift(lag)\n",
    "    # df[f'AMZN_sentiment_lag{lag}'] = df['AMZN_sentiment'].shift(lag)\n",
    "    # df[f'META_sentiment_lag{lag}'] = df['META_sentiment'].shift(lag)\n"
   ]
  },
  {
   "cell_type": "code",
   "execution_count": 178,
   "id": "154ca755",
   "metadata": {},
   "outputs": [],
   "source": [
    "df = df[20:]"
   ]
  },
  {
   "cell_type": "code",
   "execution_count": 179,
   "id": "a73e6440",
   "metadata": {},
   "outputs": [],
   "source": [
    "df['Direction'] = df['Return'].apply(lambda x: 1 if x > 0 else 0)"
   ]
  },
  {
   "cell_type": "code",
   "execution_count": 180,
   "id": "6ad6157a",
   "metadata": {},
   "outputs": [],
   "source": [
    "### Exclude Outliers\n",
    "df = df[(np.abs(df['Return'] - df['Return'].mean()) <= (3 * df['Return'].std()))]\n",
    "# df = df[df['Date']!='2014-06-09']\n",
    "# df = df[df['Date']!='2020-08-31']\n",
    "# df = df[df['Date']!='2020-09-01']\n"
   ]
  },
  {
   "cell_type": "code",
   "execution_count": 181,
   "id": "105005cd",
   "metadata": {},
   "outputs": [],
   "source": [
    "df = df.fillna(method='ffill')"
   ]
  },
  {
   "cell_type": "code",
   "execution_count": 182,
   "id": "9a880cb1",
   "metadata": {},
   "outputs": [],
   "source": [
    "df_X = df.drop(columns=['Close','Return','Direction'])"
   ]
  },
  {
   "cell_type": "code",
   "execution_count": 183,
   "id": "b871c77e",
   "metadata": {},
   "outputs": [],
   "source": [
    "from sklearn.preprocessing import StandardScaler\n",
    "\n",
    "scaler = StandardScaler()\n",
    "df_X_scaled = scaler.fit_transform(df_X.values)\n"
   ]
  },
  {
   "cell_type": "code",
   "execution_count": 184,
   "id": "4a304fb7",
   "metadata": {},
   "outputs": [],
   "source": [
    "df_Y = df['Direction']"
   ]
  },
  {
   "cell_type": "code",
   "execution_count": 185,
   "id": "5764d8eb",
   "metadata": {},
   "outputs": [],
   "source": [
    "from sklearn.ensemble import RandomForestClassifier"
   ]
  },
  {
   "cell_type": "code",
   "execution_count": 186,
   "id": "feb0435b",
   "metadata": {},
   "outputs": [],
   "source": [
    "X_train, X_test, y_train, y_test = train_test_split(\n",
    "    df_X_scaled, df_Y, test_size=0.2, random_state=32\n",
    ")\n",
    "\n",
    "# 5. Initialize and fit the Random Forest model\n",
    "rf = RandomForestClassifier(\n",
    "    n_estimators=100, \n",
    "    max_depth=None,   \n",
    "    random_state=50\n",
    ")\n",
    "rf.fit(X_train, y_train)\n",
    "\n",
    "y_pred = rf.predict(X_test)\n",
    "\n"
   ]
  },
  {
   "cell_type": "code",
   "execution_count": 187,
   "id": "587bb7c8",
   "metadata": {},
   "outputs": [
    {
     "name": "stdout",
     "output_type": "stream",
     "text": [
      "Number of test samples: 70\n",
      "Accuracy: 0.8\n",
      "              precision    recall  f1-score   support\n",
      "\n",
      "           0       0.82      0.77      0.79        35\n",
      "           1       0.78      0.83      0.81        35\n",
      "\n",
      "    accuracy                           0.80        70\n",
      "   macro avg       0.80      0.80      0.80        70\n",
      "weighted avg       0.80      0.80      0.80        70\n",
      "\n",
      "Confusion Matrix:\n",
      " [[27  8]\n",
      " [ 6 29]]\n"
     ]
    }
   ],
   "source": [
    "from sklearn.metrics import accuracy_score, classification_report, confusion_matrix\n",
    "\n",
    "print(\"Number of test samples:\", len(y_test))\n",
    "print(\"Accuracy:\", accuracy_score(y_test, y_pred))\n",
    "print(classification_report(y_test, y_pred))\n",
    "print(\"Confusion Matrix:\\n\", confusion_matrix(y_test, y_pred))\n"
   ]
  },
  {
   "cell_type": "code",
   "execution_count": 188,
   "id": "60509a64",
   "metadata": {},
   "outputs": [],
   "source": [
    "import pickle\n",
    "\n",
    "# Save the model\n",
    "pickle.dump(rf, open('model.pkl', 'wb'))\n",
    "\n",
    "# Load the model\n",
    "# loaded_model = pickle.load(open('model.pkl', 'rb'))\n"
   ]
  },
  {
   "cell_type": "code",
   "execution_count": 189,
   "id": "7df283d7",
   "metadata": {},
   "outputs": [],
   "source": [
    "df_Y = df['Return']"
   ]
  },
  {
   "cell_type": "code",
   "execution_count": 190,
   "id": "8b53ad3b",
   "metadata": {},
   "outputs": [],
   "source": [
    "from sklearn.ensemble import RandomForestClassifier\n",
    "X_train, X_test, y_train, y_test = train_test_split(\n",
    "    df_X_scaled, df_Y, test_size=0.2, random_state=62\n",
    ")\n",
    "\n",
    "# 5. Initialize and fit the Random Forest model\n",
    "rf = RandomForestRegressor(\n",
    "    n_estimators=100,  # Number of trees\n",
    "    max_depth=None,    # Let trees expand until all leaves are pure\n",
    "    random_state=42\n",
    ")\n",
    "rf.fit(X_train, y_train)\n",
    "\n",
    "y_pred = rf.predict(X_test)"
   ]
  },
  {
   "cell_type": "code",
   "execution_count": 191,
   "id": "a8adca3d",
   "metadata": {},
   "outputs": [
    {
     "data": {
      "image/png": "[encoded data removed]",
      "text/plain": [
       "<Figure size 1200x600 with 1 Axes>"
      ]
     },
     "metadata": {},
     "output_type": "display_data"
    }
   ],
   "source": [
    "import numpy as np\n",
    "import matplotlib.pyplot as plt\n",
    "\n",
    "\n",
    "# Indices for plotting\n",
    "train_idx = range(len(y_train))\n",
    "test_idx = range(len(y_train), len(y_train) + len(y_test))\n",
    "\n",
    "plt.figure(figsize=(12, 6))\n",
    "\n",
    "# Plot true values for train and test\n",
    "# plt.plot(train_idx, y_train, label='Train Data (True)', color='blue')\n",
    "plt.plot(test_idx, y_test, label='Test Data (True)', color='green')\n",
    "\n",
    "# Plot predictions for test set\n",
    "plt.plot(test_idx, y_pred, label='Test Data (Predicted)', color='red', linestyle='--')\n",
    "\n",
    "plt.xlabel('Sample Index')\n",
    "plt.ylabel('Return')\n",
    "plt.title('Train Data, Test Data, and Predictions')\n",
    "plt.legend()\n",
    "plt.tight_layout()\n",
    "plt.show()\n"
   ]
  },
  {
   "cell_type": "code",
   "execution_count": 192,
   "id": "ac1154d2",
   "metadata": {},
   "outputs": [],
   "source": [
    "diff = y_pred - y_test"
   ]
  },
  {
   "cell_type": "code",
   "execution_count": 193,
   "id": "ae3d2f6e",
   "metadata": {},
   "outputs": [],
   "source": [
    "df_diff = pd.DataFrame(diff)"
   ]
  },
  {
   "cell_type": "code",
   "execution_count": 194,
   "id": "e2fd295c",
   "metadata": {},
   "outputs": [],
   "source": [
    "df_diff['round'] = df_diff['Return'].round(3)"
   ]
  },
  {
   "cell_type": "code",
   "execution_count": 195,
   "id": "17ad3032",
   "metadata": {},
   "outputs": [],
   "source": [
    "df_plot = df_diff['round'].value_counts().sort_index()"
   ]
  },
  {
   "cell_type": "code",
   "execution_count": 196,
   "id": "4c820b0e",
   "metadata": {},
   "outputs": [
    {
     "data": {
      "text/plain": [
       "Text(0.5, 1.0, 'Distribution of Return Differences')"
      ]
     },
     "execution_count": 196,
     "metadata": {},
     "output_type": "execute_result"
    },
    {
     "data": {
      "image/png": "[encoded data removed]",
      "text/plain": [
       "<Figure size 1000x500 with 1 Axes>"
      ]
     },
     "metadata": {},
     "output_type": "display_data"
    }
   ],
   "source": [
    "df_plot.plot(kind='bar', figsize=(10, 5))\n",
    "plt.xlabel('Return Difference (Rounded)')   \n",
    "plt.ylabel('Frequency')\n",
    "plt.title('Distribution of Return Differences')"
   ]
  },
  {
   "cell_type": "code",
   "execution_count": 198,
   "id": "4c95a47a",
   "metadata": {},
   "outputs": [
    {
     "name": "stdout",
     "output_type": "stream",
     "text": [
      "Root Mean Squared Error: 0.009\n",
      "R^2 Score: 0.636\n",
      "WILLR_5            0.350104\n",
      "AMZN               0.078099\n",
      "MSFT               0.067321\n",
      "return_lag1        0.048475\n",
      "SlowK_None         0.028375\n",
      "SlowD_None         0.027388\n",
      "GOOGL              0.021331\n",
      "RSI_5              0.019353\n",
      "MSFT_lag1          0.014653\n",
      "AMZN_lag1          0.013025\n",
      "META               0.012874\n",
      "sentiment_score    0.012406\n",
      "return_lag3        0.011432\n",
      "return_lag2        0.010590\n",
      "MACD_Hist_None     0.009678\n",
      "MACD_None          0.009654\n",
      "RSI_20             0.008658\n",
      "AMZN_lag2          0.007306\n",
      "META_lag20         0.007208\n",
      "MSFT_lag20         0.007065\n",
      "dtype: float64\n"
     ]
    }
   ],
   "source": [
    "# 7. Evaluate the model\n",
    "rmse = np.sqrt(mean_squared_error(y_test, y_pred))\n",
    "r2 = r2_score(y_test, y_pred)\n",
    "print(f\"Root Mean Squared Error: {rmse:.3f}\")\n",
    "print(f\"R^2 Score: {r2:.3f}\")\n",
    "\n",
    "# # 8. (Optional) Hyperparameter tuning with GridSearchCV\n",
    "# param_grid = {\n",
    "#     'n_estimators': [100, 200],\n",
    "#     'max_depth': [None, 5, 10],\n",
    "#     'max_features': ['auto', 'sqrt']\n",
    "# }\n",
    "# grid_search = GridSearchCV(\n",
    "#     RandomForestRegressor(random_state=42),\n",
    "#     param_grid,\n",
    "#     cv=3,\n",
    "#     scoring='neg_mean_squared_error',\n",
    "#     n_jobs=-1\n",
    "# )\n",
    "# grid_search.fit(X_train, y_train)\n",
    "# print(\"Best parameters found:\", grid_search.best_params_)\n",
    "\n",
    "# 9. Feature importance\n",
    "importances = rf.feature_importances_\n",
    "feature_importance = pd.Series(importances, index=df_X.columns)\n",
    "sorted_importance = feature_importance.sort_values(ascending=False)\n",
    "\n",
    "print(sorted_importance.head(20))\n",
    "# for name, importance in zip(df_X.columns, importances):\n",
    "#     print(f\"{name}: {importance:.3f}\")\n"
   ]
  },
  {
   "cell_type": "code",
   "execution_count": null,
   "id": "9883b57c",
   "metadata": {},
   "outputs": [],
   "source": []
  }
 ],
 "metadata": {
  "kernelspec": {
   "display_name": "base",
   "language": "python",
   "name": "python3"
  },
  "language_info": {
   "codemirror_mode": {
    "name": "ipython",
    "version": 3
   },
   "file_extension": ".py",
   "mimetype": "text/x-python",
   "name": "python",
   "nbconvert_exporter": "python",
   "pygments_lexer": "ipython3",
   "version": "3.11.5"
  }
 },
 "nbformat": 4,
 "nbformat_minor": 5
}
