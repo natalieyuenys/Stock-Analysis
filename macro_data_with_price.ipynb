{
 "cells": [
  {
   "cell_type": "code",
   "execution_count": 134,
   "id": "b3c17270",
   "metadata": {},
   "outputs": [],
   "source": [
    "import requests\n",
    "import pandas as pd\n",
    "import json\n",
    "from datetime import datetime\n",
    "import time\n",
    "import os\n",
    "from dotenv import load_dotenv"
   ]
  },
  {
   "cell_type": "markdown",
   "id": "a51f0c35",
   "metadata": {},
   "source": [
    "## Macro Data"
   ]
  },
  {
   "cell_type": "code",
   "execution_count": 135,
   "id": "94142f54",
   "metadata": {},
   "outputs": [],
   "source": [
    "macro_data = pd.read_csv('data/macro_data.csv', parse_dates=['date'])"
   ]
  },
  {
   "cell_type": "code",
   "execution_count": 136,
   "id": "4c5e77e9",
   "metadata": {},
   "outputs": [],
   "source": [
    "macro_data['date'] = pd.to_datetime(macro_data['date'], format='%Y-%m-%d')"
   ]
  },
  {
   "cell_type": "code",
   "execution_count": 137,
   "id": "eab7c784",
   "metadata": {},
   "outputs": [],
   "source": [
    "macro_data = macro_data[macro_data['value'] != \".\"]"
   ]
  },
  {
   "cell_type": "code",
   "execution_count": 138,
   "id": "702e9b34",
   "metadata": {},
   "outputs": [],
   "source": [
    "macro_data['value'] = macro_data['value'].astype(float)"
   ]
  },
  {
   "cell_type": "code",
   "execution_count": 139,
   "id": "a91c3a92",
   "metadata": {},
   "outputs": [],
   "source": [
    "macro_data['maturity'] = macro_data['maturity'].fillna('')"
   ]
  },
  {
   "cell_type": "code",
   "execution_count": 140,
   "id": "6b8fa870",
   "metadata": {},
   "outputs": [],
   "source": [
    "macro_data['Merged'] = macro_data['maturity'].astype(str) + macro_data['function']"
   ]
  },
  {
   "cell_type": "code",
   "execution_count": 142,
   "id": "be188985",
   "metadata": {},
   "outputs": [],
   "source": [
    "macro_data = macro_data.sort_values(['Merged', 'date'])\n",
    "macro_data['Macro Change%'] = macro_data.groupby('Merged')['value'].pct_change()"
   ]
  },
  {
   "cell_type": "code",
   "execution_count": null,
   "id": "9c5f48bf",
   "metadata": {},
   "outputs": [],
   "source": [
    "## Remove outliers based on IQR for 'Macro Change%'\n",
    "Q1 = macro_data['Macro Change%'].quantile(0.25)\n",
    "Q3 = macro_data['Macro Change%'].quantile(0.75)\n",
    "IQR = Q3 - Q1\n",
    "\n",
    "lower_bound = Q1 - 1.5 * IQR\n",
    "upper_bound = Q3 + 1.5 * IQR\n",
    "\n",
    "filtered_macro_data = macro_data[(macro_data['Macro Change%'] >= lower_bound) & (macro_data['Macro Change%'] <= upper_bound)]\n"
   ]
  },
  {
   "cell_type": "code",
   "execution_count": 144,
   "id": "78c7f6c3",
   "metadata": {},
   "outputs": [
    {
     "data": {
      "text/plain": [
       "((7003, 6), (6051, 6))"
      ]
     },
     "execution_count": 144,
     "metadata": {},
     "output_type": "execute_result"
    }
   ],
   "source": [
    "macro_data.shape, filtered_macro_data.shape"
   ]
  },
  {
   "cell_type": "markdown",
   "id": "6ea64fca",
   "metadata": {},
   "source": [
    "# Price Data   "
   ]
  },
  {
   "cell_type": "code",
   "execution_count": 145,
   "id": "8f9b95a4",
   "metadata": {},
   "outputs": [],
   "source": [
    "price_data = pd.read_csv('data/tech_stock_daily_price.csv', parse_dates=['Date'])"
   ]
  },
  {
   "cell_type": "code",
   "execution_count": 146,
   "id": "4c526c23",
   "metadata": {},
   "outputs": [],
   "source": [
    "price_data = price_data.sort_values(['ticker', 'Date'])\n",
    "price_data['Price Change%'] = price_data.groupby('ticker')['Close'].pct_change()"
   ]
  },
  {
   "cell_type": "code",
   "execution_count": null,
   "id": "0e42d551",
   "metadata": {},
   "outputs": [],
   "source": [
    "## Remove outliers based on IQR for 'Price Change%'\n",
    "Q1 = price_data['Price Change%'].quantile(0.25)\n",
    "Q3 = price_data['Price Change%'].quantile(0.75)\n",
    "IQR = Q3 - Q1\n",
    "\n",
    "lower_bound = Q1 - 1.5 * IQR\n",
    "upper_bound = Q3 + 1.5 * IQR\n",
    "\n",
    "filtered_price_data = price_data[(price_data['Price Change%'] >= lower_bound) & (price_data['Price Change%'] <= upper_bound)]\n"
   ]
  },
  {
   "cell_type": "code",
   "execution_count": 148,
   "id": "2d850981",
   "metadata": {},
   "outputs": [
    {
     "data": {
      "text/plain": [
       "((55712, 5), (51788, 5))"
      ]
     },
     "execution_count": 148,
     "metadata": {},
     "output_type": "execute_result"
    }
   ],
   "source": [
    "price_data.shape, filtered_price_data.shape"
   ]
  },
  {
   "cell_type": "markdown",
   "id": "c09156e5",
   "metadata": {},
   "source": [
    "# Combine data"
   ]
  },
  {
   "cell_type": "code",
   "execution_count": 149,
   "id": "cf42d540",
   "metadata": {},
   "outputs": [],
   "source": [
    "results = filtered_macro_data.merge(filtered_price_data, left_on='date', right_on='Date', how='left')"
   ]
  },
  {
   "cell_type": "code",
   "execution_count": 150,
   "id": "db6fd92f",
   "metadata": {},
   "outputs": [],
   "source": [
    "results.to_csv('data/macro_data_with_prices.csv', index=False)"
   ]
  },
  {
   "cell_type": "markdown",
   "id": "a9fbac01",
   "metadata": {},
   "source": [
    "# Correlations"
   ]
  },
  {
   "cell_type": "code",
   "execution_count": 151,
   "id": "35f90e21",
   "metadata": {},
   "outputs": [],
   "source": [
    "correlations = (\n",
    "    results.groupby(['Merged','ticker'])\n",
    "      .apply(lambda group: pd.Series({\n",
    "          'CorrelationWithPrice': group['value'].corr(group['Close']),\n",
    "          'Count': group.shape[0]\n",
    "          }))\n",
    "      .reset_index()\n",
    ")\n"
   ]
  },
  {
   "cell_type": "code",
   "execution_count": 152,
   "id": "8e3f3136",
   "metadata": {},
   "outputs": [],
   "source": [
    "correlations.to_csv('data/function_corr_with_price.csv', index=False)"
   ]
  },
  {
   "cell_type": "code",
   "execution_count": null,
   "id": "132a0b5b",
   "metadata": {},
   "outputs": [],
   "source": []
  },
  {
   "cell_type": "code",
   "execution_count": null,
   "id": "af9216e0",
   "metadata": {},
   "outputs": [],
   "source": []
  }
 ],
 "metadata": {
  "kernelspec": {
   "display_name": "base",
   "language": "python",
   "name": "python3"
  },
  "language_info": {
   "codemirror_mode": {
    "name": "ipython",
    "version": 3
   },
   "file_extension": ".py",
   "mimetype": "text/x-python",
   "name": "python",
   "nbconvert_exporter": "python",
   "pygments_lexer": "ipython3",
   "version": "3.11.5"
  }
 },
 "nbformat": 4,
 "nbformat_minor": 5
}
