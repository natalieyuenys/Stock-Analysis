{
 "cells": [
  {
   "cell_type": "code",
   "execution_count": 2,
   "id": "5ac6b097",
   "metadata": {},
   "outputs": [],
   "source": [
    "import requests\n",
    "import pandas as pd\n",
    "import numpy as np\n",
    "import json\n",
    "from datetime import datetime\n",
    "import time\n",
    "import os\n",
    "from dotenv import load_dotenv\n",
    "from sklearn.linear_model import LinearRegression\n",
    "import statsmodels.api as sm\n",
    "from functools import reduce\n",
    "\n",
    "from sklearn.metrics import mean_squared_error\n",
    "from sklearn.ensemble import  RandomForestRegressor\n",
    "from sklearn.model_selection import train_test_split, GridSearchCV\n",
    "from sklearn.metrics import mean_squared_error, r2_score\n",
    "\n",
    "import warnings\n",
    "warnings.filterwarnings(\"ignore\")\n",
    "\n"
   ]
  },
  {
   "cell_type": "code",
   "execution_count": 3,
   "id": "1e580a9a",
   "metadata": {},
   "outputs": [],
   "source": [
    "df_income = pd.read_csv('data/income_statement.csv')\n",
    "df_balance = pd.read_csv('data/balance_sheet.csv')\n",
    "df_cash_flow = pd.read_csv('data/cash_flow_statement.csv')   \n",
    "df_earnings = pd.read_csv('data/earnings.csv')   \n",
    "df_overview = pd.read_csv('data/company_overview.csv')"
   ]
  },
  {
   "cell_type": "code",
   "execution_count": 4,
   "id": "e6a3c407",
   "metadata": {},
   "outputs": [],
   "source": [
    "df_technical = pd.read_csv('data/technical_data.csv')"
   ]
  },
  {
   "cell_type": "code",
   "execution_count": 5,
   "id": "8e7c9ab7",
   "metadata": {},
   "outputs": [],
   "source": [
    "df_price = pd.read_csv('data/tech_stock_daily_price.csv')"
   ]
  },
  {
   "cell_type": "code",
   "execution_count": 6,
   "id": "83d5ccee",
   "metadata": {},
   "outputs": [],
   "source": [
    "df_income['fiscalDateEnding'] = pd.to_datetime(df_income['fiscalDateEnding'])\n",
    "df_balance['fiscalDateEnding'] = pd.to_datetime(df_balance['fiscalDateEnding'])\n",
    "df_cash_flow['fiscalDateEnding'] = pd.to_datetime(df_cash_flow['fiscalDateEnding'])\n",
    "df_earnings['fiscalDateEnding'] = pd.to_datetime(df_earnings['fiscalDateEnding'])\n",
    "df_technical['date'] = pd.to_datetime(df_technical['date'])\n",
    "df_price['Date'] = pd.to_datetime(df_price['Date'])"
   ]
  },
  {
   "cell_type": "code",
   "execution_count": 7,
   "id": "04b4257a",
   "metadata": {},
   "outputs": [],
   "source": [
    "df_earnings = df_earnings[df_earnings['fiscalDateEnding'] >= '2005-01-01']\n",
    "df_technical = df_technical[df_technical['date']>='2005-01-01']\n",
    "df_price = df_price[df_price['Date'] >= '2005-01-01']"
   ]
  },
  {
   "cell_type": "code",
   "execution_count": 8,
   "id": "f5499d7d",
   "metadata": {},
   "outputs": [],
   "source": [
    "df_income = df_income.sort_values(by=['symbol', 'fiscalDateEnding'])\n",
    "df_balance = df_balance.sort_values(by=['symbol', 'fiscalDateEnding'])\n",
    "df_cash_flow = df_cash_flow.sort_values(by=['symbol', 'fiscalDateEnding'])\n",
    "df_earnings = df_earnings.sort_values(by=['symbol', 'fiscalDateEnding'])\n",
    "df_technical = df_technical.sort_values(by=['ticker', 'date'])\n",
    "df_price = df_price.sort_values(by=['ticker', 'Date'])"
   ]
  },
  {
   "cell_type": "code",
   "execution_count": 9,
   "id": "c508533f",
   "metadata": {},
   "outputs": [],
   "source": [
    "symbol= 'AAPL'  # Example symbol, replace with your desired stock symbol"
   ]
  },
  {
   "cell_type": "code",
   "execution_count": 10,
   "id": "57d66ddb",
   "metadata": {},
   "outputs": [],
   "source": [
    "\n",
    "income_data = df_income[df_income['symbol'] == symbol]\n",
    "balance_data = df_balance[df_balance['symbol'] == symbol]\n",
    "overview_data = df_overview[df_overview['symbol'] == symbol]\n",
    "earnings_data = df_earnings[df_earnings['symbol'] == symbol]\n",
    "cash_flow_data = df_cash_flow[df_cash_flow['symbol'] == symbol]\n",
    "technical_data = df_technical[df_technical['ticker']==symbol]\n",
    "price_data = df_price[df_price['ticker'] == symbol]"
   ]
  },
  {
   "cell_type": "code",
   "execution_count": 11,
   "id": "3c061545",
   "metadata": {},
   "outputs": [],
   "source": [
    "income_data = income_data.drop(columns=['symbol','reportedCurrency'])"
   ]
  },
  {
   "cell_type": "code",
   "execution_count": 12,
   "id": "c50a592b",
   "metadata": {},
   "outputs": [],
   "source": [
    "all_nan_columns = income_data.columns[income_data.isna().all()].tolist()"
   ]
  },
  {
   "cell_type": "code",
   "execution_count": 13,
   "id": "b9207540",
   "metadata": {},
   "outputs": [],
   "source": [
    "income_data = income_data.drop(columns=all_nan_columns)"
   ]
  },
  {
   "cell_type": "code",
   "execution_count": 14,
   "id": "50f87934",
   "metadata": {},
   "outputs": [],
   "source": [
    "balance_data = balance_data.drop(columns=['symbol','reportedCurrency'])"
   ]
  },
  {
   "cell_type": "code",
   "execution_count": 15,
   "id": "4b5ead22",
   "metadata": {},
   "outputs": [],
   "source": [
    "all_nan_columns = balance_data.columns[balance_data.isna().all()].tolist()"
   ]
  },
  {
   "cell_type": "code",
   "execution_count": 16,
   "id": "2c3c0417",
   "metadata": {},
   "outputs": [],
   "source": [
    "balance_data = balance_data.drop(columns=all_nan_columns)"
   ]
  },
  {
   "cell_type": "code",
   "execution_count": 17,
   "id": "638d1b8b",
   "metadata": {},
   "outputs": [],
   "source": [
    "cash_flow_data = cash_flow_data[['fiscalDateEnding','operatingCashflow']]"
   ]
  },
  {
   "cell_type": "code",
   "execution_count": 18,
   "id": "834305a1",
   "metadata": {},
   "outputs": [],
   "source": [
    "earnings_data = earnings_data[['fiscalDateEnding','reportedEPS']]"
   ]
  },
  {
   "cell_type": "code",
   "execution_count": 19,
   "id": "e33681ad",
   "metadata": {},
   "outputs": [
    {
     "data": {
      "text/html": [
       "<div>\n",
       "<style scoped>\n",
       "    .dataframe tbody tr th:only-of-type {\n",
       "        vertical-align: middle;\n",
       "    }\n",
       "\n",
       "    .dataframe tbody tr th {\n",
       "        vertical-align: top;\n",
       "    }\n",
       "\n",
       "    .dataframe thead th {\n",
       "        text-align: right;\n",
       "    }\n",
       "</style>\n",
       "<table border=\"1\" class=\"dataframe\">\n",
       "  <thead>\n",
       "    <tr style=\"text-align: right;\">\n",
       "      <th></th>\n",
       "      <th>fiscalDateEnding</th>\n",
       "      <th>reportedEPS</th>\n",
       "    </tr>\n",
       "  </thead>\n",
       "  <tbody>\n",
       "    <tr>\n",
       "      <th>80</th>\n",
       "      <td>2005-03-31</td>\n",
       "      <td>0.01</td>\n",
       "    </tr>\n",
       "    <tr>\n",
       "      <th>79</th>\n",
       "      <td>2005-06-30</td>\n",
       "      <td>0.01</td>\n",
       "    </tr>\n",
       "    <tr>\n",
       "      <th>78</th>\n",
       "      <td>2005-09-30</td>\n",
       "      <td>0.02</td>\n",
       "    </tr>\n",
       "    <tr>\n",
       "      <th>77</th>\n",
       "      <td>2005-12-31</td>\n",
       "      <td>0.02</td>\n",
       "    </tr>\n",
       "    <tr>\n",
       "      <th>76</th>\n",
       "      <td>2006-03-31</td>\n",
       "      <td>0.02</td>\n",
       "    </tr>\n",
       "    <tr>\n",
       "      <th>...</th>\n",
       "      <td>...</td>\n",
       "      <td>...</td>\n",
       "    </tr>\n",
       "    <tr>\n",
       "      <th>4</th>\n",
       "      <td>2024-03-31</td>\n",
       "      <td>1.53</td>\n",
       "    </tr>\n",
       "    <tr>\n",
       "      <th>3</th>\n",
       "      <td>2024-06-30</td>\n",
       "      <td>1.40</td>\n",
       "    </tr>\n",
       "    <tr>\n",
       "      <th>2</th>\n",
       "      <td>2024-09-30</td>\n",
       "      <td>0.97</td>\n",
       "    </tr>\n",
       "    <tr>\n",
       "      <th>1</th>\n",
       "      <td>2024-12-31</td>\n",
       "      <td>2.40</td>\n",
       "    </tr>\n",
       "    <tr>\n",
       "      <th>0</th>\n",
       "      <td>2025-03-31</td>\n",
       "      <td>1.65</td>\n",
       "    </tr>\n",
       "  </tbody>\n",
       "</table>\n",
       "<p>81 rows × 2 columns</p>\n",
       "</div>"
      ],
      "text/plain": [
       "   fiscalDateEnding  reportedEPS\n",
       "80       2005-03-31         0.01\n",
       "79       2005-06-30         0.01\n",
       "78       2005-09-30         0.02\n",
       "77       2005-12-31         0.02\n",
       "76       2006-03-31         0.02\n",
       "..              ...          ...\n",
       "4        2024-03-31         1.53\n",
       "3        2024-06-30         1.40\n",
       "2        2024-09-30         0.97\n",
       "1        2024-12-31         2.40\n",
       "0        2025-03-31         1.65\n",
       "\n",
       "[81 rows x 2 columns]"
      ]
     },
     "execution_count": 19,
     "metadata": {},
     "output_type": "execute_result"
    }
   ],
   "source": [
    "earnings_data"
   ]
  },
  {
   "cell_type": "code",
   "execution_count": 20,
   "id": "bc12f52a",
   "metadata": {},
   "outputs": [],
   "source": [
    "merged_df = reduce(lambda left, right: pd.merge(left, right, on='fiscalDateEnding'), [income_data, balance_data, cash_flow_data, earnings_data])"
   ]
  },
  {
   "cell_type": "code",
   "execution_count": 21,
   "id": "a9d79ee2",
   "metadata": {},
   "outputs": [],
   "source": [
    "merged_df = merged_df.sort_values(by='fiscalDateEnding')"
   ]
  },
  {
   "cell_type": "code",
   "execution_count": 22,
   "id": "643ec9e8",
   "metadata": {},
   "outputs": [],
   "source": [
    "df = merged_df.merge(technical_data, left_on='fiscalDateEnding',right_on='date')"
   ]
  },
  {
   "cell_type": "code",
   "execution_count": 23,
   "id": "62475644",
   "metadata": {},
   "outputs": [],
   "source": [
    "df = price_data[['Date','Close']].merge(df, right_on='fiscalDateEnding', left_on='Date', how='left')"
   ]
  },
  {
   "cell_type": "code",
   "execution_count": 24,
   "id": "6be9ddac",
   "metadata": {},
   "outputs": [],
   "source": [
    "df = df.fillna(method='ffill')"
   ]
  },
  {
   "cell_type": "code",
   "execution_count": 25,
   "id": "2b11ecd8",
   "metadata": {},
   "outputs": [],
   "source": [
    "df['Return'] = df['Close'].pct_change().fillna(0)"
   ]
  },
  {
   "cell_type": "code",
   "execution_count": 26,
   "id": "a73e6440",
   "metadata": {},
   "outputs": [],
   "source": [
    "df['Direction'] = df['Return'].apply(lambda x: 1 if x > 0 else 0)"
   ]
  },
  {
   "cell_type": "code",
   "execution_count": 27,
   "id": "59e3c074",
   "metadata": {},
   "outputs": [],
   "source": [
    "df = df[df['Date']>='2005-04-01']"
   ]
  },
  {
   "cell_type": "code",
   "execution_count": 28,
   "id": "6ad6157a",
   "metadata": {},
   "outputs": [],
   "source": [
    "### Exclude Outliers\n",
    "# df = df[(np.abs(df['Return'] - df['Return'].mean()) <= (3 * df['Return'].std()))]\n",
    "df = df[df['Date']!='2014-06-09']\n",
    "df = df[df['Date']!='2020-08-31']\n",
    "df = df[df['Date']!='2020-09-01']\n"
   ]
  },
  {
   "cell_type": "code",
   "execution_count": 29,
   "id": "823904fb",
   "metadata": {},
   "outputs": [],
   "source": [
    "df = df.drop(columns=['Date', 'date','fiscalDateEnding','ticker','company_name'])"
   ]
  },
  {
   "cell_type": "code",
   "execution_count": 30,
   "id": "7758cece",
   "metadata": {},
   "outputs": [],
   "source": [
    "df = df.fillna(0)"
   ]
  },
  {
   "cell_type": "code",
   "execution_count": 31,
   "id": "9a880cb1",
   "metadata": {},
   "outputs": [],
   "source": [
    "df_X = df.drop(columns=['Close','Return','Direction'])"
   ]
  },
  {
   "cell_type": "code",
   "execution_count": 32,
   "id": "4a304fb7",
   "metadata": {},
   "outputs": [],
   "source": [
    "df_Y = df['Return']"
   ]
  },
  {
   "cell_type": "code",
   "execution_count": 33,
   "id": "5764d8eb",
   "metadata": {},
   "outputs": [],
   "source": [
    "from sklearn.ensemble import RandomForestClassifier"
   ]
  },
  {
   "cell_type": "code",
   "execution_count": 42,
   "id": "feb0435b",
   "metadata": {},
   "outputs": [],
   "source": [
    "X_train, X_test, y_train, y_test = train_test_split(\n",
    "    df_X, df_Y, test_size=0.2, random_state=32\n",
    ")\n",
    "\n",
    "# 5. Initialize and fit the Random Forest model\n",
    "rf = RandomForestRegressor(\n",
    "    n_estimators=100,  # Number of trees\n",
    "    max_depth=None,    # Let trees expand until all leaves are pure\n",
    "    random_state=42\n",
    ")\n",
    "rf.fit(X_train, y_train)\n",
    "\n",
    "y_pred = rf.predict(X_test)\n",
    "\n"
   ]
  },
  {
   "cell_type": "code",
   "execution_count": 43,
   "id": "a131e25c",
   "metadata": {},
   "outputs": [],
   "source": [
    "import numpy as np\n",
    "import matplotlib.pyplot as plt\n",
    "\n",
    "\n",
    "# Indices for plotting\n",
    "train_idx = range(len(y_train))\n",
    "test_idx = range(len(y_train), len(y_train) + len(y_test))\n"
   ]
  },
  {
   "cell_type": "code",
   "execution_count": 46,
   "id": "69c753b6",
   "metadata": {},
   "outputs": [
    {
     "data": {
      "image/png": "[encoded data removed]",
      "text/plain": [
       "<Figure size 1200x600 with 1 Axes>"
      ]
     },
     "metadata": {},
     "output_type": "display_data"
    }
   ],
   "source": [
    "plt.figure(figsize=(12, 6))\n",
    "\n",
    "# Plot true values for train and test\n",
    "plt.plot(train_idx, y_train, label='Train Data (True)', color='blue')\n",
    "plt.plot(test_idx, y_test, label='Test Data (True)', color='green')\n",
    "\n",
    "# Plot predictions for test set\n",
    "plt.plot(test_idx, y_pred, label='Test Data (Predicted)', color='red', linestyle='--')\n",
    "\n",
    "plt.xlabel('Sample Index')\n",
    "plt.ylabel('Return')\n",
    "plt.title('Train Data, Test Data, and Predictions')\n",
    "plt.legend()\n",
    "plt.tight_layout()\n",
    "plt.show()\n"
   ]
  },
  {
   "cell_type": "code",
   "execution_count": 38,
   "id": "8592583e",
   "metadata": {},
   "outputs": [
    {
     "name": "stdout",
     "output_type": "stream",
     "text": [
      "Root Mean Squared Error: 0.020\n",
      "R^2 Score: -0.015\n",
      "Best parameters found: {'max_depth': 5, 'max_features': 'sqrt', 'n_estimators': 100}\n",
      "grossProfit: 0.011\n",
      "totalRevenue: 0.005\n",
      "costOfRevenue: 0.012\n",
      "costofGoodsAndServicesSold: 0.004\n",
      "operatingIncome: 0.002\n",
      "sellingGeneralAndAdministrative: 0.010\n",
      "researchAndDevelopment: 0.008\n",
      "operatingExpenses: 0.008\n",
      "netInterestIncome: 0.016\n",
      "interestIncome: 0.005\n",
      "interestExpense: 0.018\n",
      "otherNonOperatingIncome: 0.016\n",
      "depreciationAndAmortization: 0.013\n",
      "incomeBeforeTax: 0.005\n",
      "incomeTaxExpense: 0.050\n",
      "netIncomeFromContinuingOperations: 0.010\n",
      "ebit: 0.004\n",
      "ebitda: 0.007\n",
      "netIncome: 0.005\n",
      "totalAssets: 0.008\n",
      "totalCurrentAssets: 0.019\n",
      "cashAndCashEquivalentsAtCarryingValue: 0.011\n",
      "cashAndShortTermInvestments: 0.018\n",
      "inventory: 0.018\n",
      "currentNetReceivables: 0.031\n",
      "totalNonCurrentAssets: 0.011\n",
      "propertyPlantEquipment: 0.007\n",
      "accumulatedDepreciationAmortizationPPE: 0.000\n",
      "intangibleAssets: 0.013\n",
      "intangibleAssetsExcludingGoodwill: 0.007\n",
      "goodwill: 0.025\n",
      "longTermInvestments: 0.013\n",
      "shortTermInvestments: 0.026\n",
      "otherCurrentAssets: 0.021\n",
      "totalLiabilities: 0.009\n",
      "totalCurrentLiabilities: 0.006\n",
      "currentAccountsPayable: 0.006\n",
      "shortTermDebt: 0.015\n",
      "totalNonCurrentLiabilities: 0.018\n",
      "capitalLeaseObligations: 0.000\n",
      "longTermDebt: 0.003\n",
      "currentLongTermDebt: 0.006\n",
      "shortLongTermDebtTotal: 0.003\n",
      "otherCurrentLiabilities: 0.021\n",
      "otherNonCurrentLiabilities: 0.036\n",
      "totalShareholderEquity: 0.019\n",
      "treasuryStock: 0.000\n",
      "retainedEarnings: 0.022\n",
      "commonStock: 0.012\n",
      "commonStockSharesOutstanding: 0.015\n",
      "operatingCashflow: 0.022\n",
      "reportedEPS: 0.005\n",
      "EMA: 0.008\n",
      "WMA: 0.007\n",
      "RSI: 0.067\n",
      "SMA: 0.006\n",
      "MACD: 0.014\n",
      "MACD_Signal: 0.020\n",
      "MACD_Hist: 0.072\n",
      "SlowK: 0.034\n",
      "SlowD: 0.048\n",
      "WILLR: 0.044\n",
      "Real Upper Band: 0.007\n",
      "Real Middle Band: 0.007\n",
      "Real Lower Band: 0.012\n"
     ]
    }
   ],
   "source": [
    "# 7. Evaluate the model\n",
    "rmse = np.sqrt(mean_squared_error(y_test, y_pred))\n",
    "r2 = r2_score(y_test, y_pred)\n",
    "print(f\"Root Mean Squared Error: {rmse:.3f}\")\n",
    "print(f\"R^2 Score: {r2:.3f}\")\n",
    "\n",
    "# 8. (Optional) Hyperparameter tuning with GridSearchCV\n",
    "param_grid = {\n",
    "    'n_estimators': [100, 200],\n",
    "    'max_depth': [None, 5, 10],\n",
    "    'max_features': ['auto', 'sqrt']\n",
    "}\n",
    "grid_search = GridSearchCV(\n",
    "    RandomForestRegressor(random_state=42),\n",
    "    param_grid,\n",
    "    cv=3,\n",
    "    scoring='neg_mean_squared_error',\n",
    "    n_jobs=-1\n",
    ")\n",
    "grid_search.fit(X_train, y_train)\n",
    "print(\"Best parameters found:\", grid_search.best_params_)\n",
    "\n",
    "# 9. Feature importance\n",
    "importances = rf.feature_importances_\n",
    "for name, importance in zip(df_X.columns, importances):\n",
    "    print(f\"{name}: {importance:.3f}\")\n"
   ]
  },
  {
   "cell_type": "code",
   "execution_count": null,
   "id": "5dc6c0ea",
   "metadata": {},
   "outputs": [],
   "source": []
  }
 ],
 "metadata": {
  "kernelspec": {
   "display_name": "base",
   "language": "python",
   "name": "python3"
  },
  "language_info": {
   "codemirror_mode": {
    "name": "ipython",
    "version": 3
   },
   "file_extension": ".py",
   "mimetype": "text/x-python",
   "name": "python",
   "nbconvert_exporter": "python",
   "pygments_lexer": "ipython3",
   "version": "3.11.5"
  }
 },
 "nbformat": 4,
 "nbformat_minor": 5
}
